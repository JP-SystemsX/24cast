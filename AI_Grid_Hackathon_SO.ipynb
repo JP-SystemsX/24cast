{
  "nbformat": 4,
  "nbformat_minor": 0,
  "metadata": {
    "colab": {
      "provenance": [],
      "include_colab_link": true
    },
    "kernelspec": {
      "name": "python3",
      "display_name": "Python 3"
    },
    "language_info": {
      "name": "python"
    }
  },
  "cells": [
    {
      "cell_type": "markdown",
      "metadata": {
        "id": "view-in-github",
        "colab_type": "text"
      },
      "source": [
        "<a href=\"https://colab.research.google.com/github/JP-SystemsX/24cast/blob/master/AI_Grid_Hackathon_SO.ipynb\" target=\"_parent\"><img src=\"https://colab.research.google.com/assets/colab-badge.svg\" alt=\"Open In Colab\"/></a>"
      ]
    },
    {
      "cell_type": "code",
      "execution_count": null,
      "metadata": {
        "id": "5tt36fSBdgEb"
      },
      "outputs": [],
      "source": [
        "!pip install -q wget"
      ]
    },
    {
      "cell_type": "code",
      "source": [
        "!pip install -q autogluon"
      ],
      "metadata": {
        "id": "KFb14u2EXdWC"
      },
      "execution_count": null,
      "outputs": []
    },
    {
      "cell_type": "code",
      "source": [
        "!pip install --upgrade pyarrow"
      ],
      "metadata": {
        "id": "_qc1OSOEYYLP"
      },
      "execution_count": null,
      "outputs": []
    },
    {
      "cell_type": "code",
      "source": [
        "!ls"
      ],
      "metadata": {
        "id": "CpTArXHNgbwG"
      },
      "execution_count": null,
      "outputs": []
    },
    {
      "cell_type": "code",
      "source": [
        "!wget https://zenodo.org/records/3899018/files/LoadProfile_20IPs_2016.csv -q\n",
        "!wget https://zenodo.org/records/3899018/files/LoadProfile_30IPs_2017.csv -q\n"
      ],
      "metadata": {
        "id": "a4GtA99Oe9i8"
      },
      "execution_count": null,
      "outputs": []
    },
    {
      "cell_type": "code",
      "source": [
        "import pandas as pd\n",
        "\n",
        "#lp_20ips_2016 = pd.read_csv(\"LoadProfile_20IPs_2016.csv\", sep=\";\", skiprows=1)\n",
        "#lp_30ups_2017 = pd.read_csv(\"LoadProfile_30IPs_2017.csv\", sep=\";\", skiprows=1)\n",
        "train_2016 = pd.read_csv(\"tune/2016_train.csv\")\n",
        "train_2017 = pd.read_csv(\"tune/2017_train.csv\")\n",
        "val_2016 = pd.read_csv(\"tune/2016_val.csv\")\n",
        "val_2017 = pd.read_csv(\"tune/2017_val.csv\")"
      ],
      "metadata": {
        "id": "ePFVg2WIgjFH"
      },
      "execution_count": null,
      "outputs": []
    },
    {
      "cell_type": "code",
      "source": [
        "lp_20ips_2016.head()"
      ],
      "metadata": {
        "id": "frfor6Q_gryv"
      },
      "execution_count": null,
      "outputs": []
    },
    {
      "cell_type": "code",
      "source": [
        "lp_30ups_2017.head()"
      ],
      "metadata": {
        "id": "RUrvBIX3hvmi"
      },
      "execution_count": null,
      "outputs": []
    },
    {
      "cell_type": "code",
      "source": [
        "from autogluon.timeseries import TimeSeriesDataFrame, TimeSeriesPredictor"
      ],
      "metadata": {
        "id": "hsB3DPstiQjR"
      },
      "execution_count": null,
      "outputs": []
    },
    {
      "cell_type": "code",
      "source": [
        "df = lp_20ips_2016[[\"Time stamp\", \"LG 1\"]]\n",
        "df.loc[:, [\"id\"]] = \"LG 01\"\n",
        "\n",
        "df.loc[:, [\"Time stamp\"]] = df[\"Time stamp\"].str.replace(r'[^0-9.: ]', '', regex=True).str.strip()\n",
        "df.loc[:, [\"Time stamp\"]] = pd.to_datetime(df[\"Time stamp\"], format='%d.%m.%Y %H:%M:%S')"
      ],
      "metadata": {
        "id": "U2hrJjHtn5lG"
      },
      "execution_count": null,
      "outputs": []
    },
    {
      "cell_type": "code",
      "source": [
        "train_data = TimeSeriesDataFrame.from_data_frame(\n",
        "    df,\n",
        "    id_column=\"id\",\n",
        "    timestamp_column=\"Time stamp\"\n",
        ")\n",
        "train_data"
      ],
      "metadata": {
        "id": "44coShs9lhIE"
      },
      "execution_count": null,
      "outputs": []
    },
    {
      "cell_type": "code",
      "source": [
        "train_data = TimeSeriesDataFrame.from_data_frame(\n",
        "    df,\n",
        "    id_column=\"item_id\",\n",
        "    timestamp_column=\"Time stamp\"\n",
        ")\n",
        "train_data"
      ],
      "metadata": {
        "id": "R_lzNsxofm77"
      },
      "execution_count": null,
      "outputs": []
    },
    {
      "cell_type": "code",
      "source": [
        "\n",
        "%%time\n",
        "\n",
        "predictor = TimeSeriesPredictor(\n",
        "    prediction_length=48,\n",
        "    path=\"autogluon-m4-hourly\",\n",
        "    target=\"target\",\n",
        "    eval_metric=\"MASE\",\n",
        "    freq=\"60min\"\n",
        ")\n",
        "\n",
        "# Dev Setting\n",
        "predictor = predictor.fit(\n",
        "    train_data,\n",
        "    presets=\"medium_quality\",\n",
        "    time_limit=5*60,\n",
        ")"
      ],
      "metadata": {
        "id": "FQ4NLuLWfvdh"
      },
      "execution_count": null,
      "outputs": []
    },
    {
      "cell_type": "code",
      "source": [
        "\n",
        "%%time\n",
        "# TODO: Smarter Train-Test Split\n",
        "test = deepcopy(lp_30ups_2017)#[[\"Time stamp\", \"LG 1\"]]\n",
        "test.loc[:, [\"Time stamp\"]] = test[\"Time stamp\"].str.replace(r'[^0-9.: ]', '', regex=True).str.strip()\n",
        "test.loc[:, [\"Time stamp\"]] = pd.to_datetime(test[\"Time stamp\"], format='%d.%m.%Y %H:%M:%S')\n",
        "\n",
        "# TODO: Check whether makes sense (AG can't handle Nans)\n",
        "test = test.interpolate(method=\"linear\")\n",
        "\n",
        "# Concat Columns & Assign Ids\n",
        "test = test.melt(id_vars=['Time stamp'], var_name='item_id', value_name='target')\n",
        "test_data = TimeSeriesDataFrame.from_data_frame(\n",
        "    test.reset_index(drop=True),\n",
        "    id_column=\"item_id\",\n",
        "    timestamp_column=\"Time stamp\"\n",
        ")\n",
        "predictor.evaluate(test_data)"
      ],
      "metadata": {
        "id": "9kA3e_5MgEt4"
      },
      "execution_count": null,
      "outputs": []
    },
    {
      "cell_type": "code",
      "source": [
        "predictor.leaderboard()"
      ],
      "metadata": {
        "id": "LAtezPPjgHMm"
      },
      "execution_count": null,
      "outputs": []
    }
  ]
}