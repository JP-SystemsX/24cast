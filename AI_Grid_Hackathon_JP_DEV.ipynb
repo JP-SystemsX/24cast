{
 "nbformat": 4,
 "nbformat_minor": 0,
 "metadata": {
  "colab": {
   "provenance": [],
   "include_colab_link": true
  },
  "kernelspec": {
   "name": "python3",
   "language": "python",
   "display_name": "Python 3 (ipykernel)"
  },
  "language_info": {
   "name": "python"
  }
 },
 "cells": [
  {
   "cell_type": "markdown",
   "metadata": {
    "id": "view-in-github",
    "colab_type": "text"
   },
   "source": [
    "<a href=\"https://colab.research.google.com/github/JP-SystemsX/24cast/blob/master/AI_Grid_Hackathon_JP_DEV.ipynb\" target=\"_parent\"><img src=\"https://colab.research.google.com/assets/colab-badge.svg\" alt=\"Open In Colab\"/></a>"
   ]
  },
  {
   "cell_type": "code",
   "execution_count": 1,
   "metadata": {
    "id": "5tt36fSBdgEb",
    "ExecuteTime": {
     "end_time": "2024-09-11T01:40:41.305838800Z",
     "start_time": "2024-09-11T01:38:18.260334800Z"
    },
    "outputId": "c4942827-577f-4f5b-831f-1a2e9abdc630",
    "colab": {
     "base_uri": "https://localhost:8080/"
    }
   },
   "outputs": [
    {
     "output_type": "stream",
     "name": "stdout",
     "text": [
      "  Preparing metadata (setup.py) ... \u001B[?25l\u001B[?25hdone\n",
      "  Building wheel for wget (setup.py) ... \u001B[?25l\u001B[?25hdone\n",
      "\u001B[2K     \u001B[90m━━━━━━━━━━━━━━━━━━━━━━━━━━━━━━━━━━━━━━━━\u001B[0m \u001B[32m60.4/60.4 kB\u001B[0m \u001B[31m2.0 MB/s\u001B[0m eta \u001B[36m0:00:00\u001B[0m\n",
      "\u001B[2K     \u001B[90m━━━━━━━━━━━━━━━━━━━━━━━━━━━━━━━━━━━━━━━━\u001B[0m \u001B[32m138.0/138.0 kB\u001B[0m \u001B[31m4.9 MB/s\u001B[0m eta \u001B[36m0:00:00\u001B[0m\n",
      "\u001B[2K     \u001B[90m━━━━━━━━━━━━━━━━━━━━━━━━━━━━━━━━━━━━━━━━\u001B[0m \u001B[32m43.6/43.6 kB\u001B[0m \u001B[31m3.4 MB/s\u001B[0m eta \u001B[36m0:00:00\u001B[0m\n",
      "\u001B[?25h  Preparing metadata (setup.py) ... \u001B[?25l\u001B[?25hdone\n",
      "  Preparing metadata (setup.py) ... \u001B[?25l\u001B[?25hdone\n",
      "\u001B[2K     \u001B[90m━━━━━━━━━━━━━━━━━━━━━━━━━━━━━━━━━━━━━━━━\u001B[0m \u001B[32m50.4/50.4 kB\u001B[0m \u001B[31m2.3 MB/s\u001B[0m eta \u001B[36m0:00:00\u001B[0m\n",
      "\u001B[2K     \u001B[90m━━━━━━━━━━━━━━━━━━━━━━━━━━━━━━━━━━━━━━━━\u001B[0m \u001B[32m117.0/117.0 kB\u001B[0m \u001B[31m9.2 MB/s\u001B[0m eta \u001B[36m0:00:00\u001B[0m\n",
      "\u001B[?25h  Preparing metadata (setup.py) ... \u001B[?25l\u001B[?25hdone\n",
      "\u001B[2K     \u001B[90m━━━━━━━━━━━━━━━━━━━━━━━━━━━━━━━━━━━━━━━━\u001B[0m \u001B[32m134.8/134.8 kB\u001B[0m \u001B[31m6.6 MB/s\u001B[0m eta \u001B[36m0:00:00\u001B[0m\n",
      "\u001B[2K     \u001B[90m━━━━━━━━━━━━━━━━━━━━━━━━━━━━━━━━━━━━━━━━\u001B[0m \u001B[32m259.5/259.5 kB\u001B[0m \u001B[31m19.6 MB/s\u001B[0m eta \u001B[36m0:00:00\u001B[0m\n",
      "\u001B[?25h  Preparing metadata (setup.py) ... \u001B[?25l\u001B[?25hdone\n",
      "\u001B[2K   \u001B[90m━━━━━━━━━━━━━━━━━━━━━━━━━━━━━━━━━━━━━━━━\u001B[0m \u001B[32m234.8/234.8 kB\u001B[0m \u001B[31m17.4 MB/s\u001B[0m eta \u001B[36m0:00:00\u001B[0m\n",
      "\u001B[2K   \u001B[90m━━━━━━━━━━━━━━━━━━━━━━━━━━━━━━━━━━━━━━━━\u001B[0m \u001B[32m63.4/63.4 kB\u001B[0m \u001B[31m4.6 MB/s\u001B[0m eta \u001B[36m0:00:00\u001B[0m\n",
      "\u001B[2K   \u001B[90m━━━━━━━━━━━━━━━━━━━━━━━━━━━━━━━━━━━━━━━━\u001B[0m \u001B[32m428.0/428.0 kB\u001B[0m \u001B[31m28.0 MB/s\u001B[0m eta \u001B[36m0:00:00\u001B[0m\n",
      "\u001B[2K   \u001B[90m━━━━━━━━━━━━━━━━━━━━━━━━━━━━━━━━━━━━━━━━\u001B[0m \u001B[32m312.1/312.1 kB\u001B[0m \u001B[31m24.0 MB/s\u001B[0m eta \u001B[36m0:00:00\u001B[0m\n",
      "\u001B[2K   \u001B[90m━━━━━━━━━━━━━━━━━━━━━━━━━━━━━━━━━━━━━━━━\u001B[0m \u001B[32m148.2/148.2 kB\u001B[0m \u001B[31m12.5 MB/s\u001B[0m eta \u001B[36m0:00:00\u001B[0m\n",
      "\u001B[2K   \u001B[90m━━━━━━━━━━━━━━━━━━━━━━━━━━━━━━━━━━━━━━━━\u001B[0m \u001B[32m64.6/64.6 kB\u001B[0m \u001B[31m4.0 MB/s\u001B[0m eta \u001B[36m0:00:00\u001B[0m\n",
      "\u001B[2K   \u001B[90m━━━━━━━━━━━━━━━━━━━━━━━━━━━━━━━━━━━━━━━━\u001B[0m \u001B[32m1.5/1.5 MB\u001B[0m \u001B[31m37.8 MB/s\u001B[0m eta \u001B[36m0:00:00\u001B[0m\n",
      "\u001B[2K   \u001B[90m━━━━━━━━━━━━━━━━━━━━━━━━━━━━━━━━━━━━━━━━\u001B[0m \u001B[32m244.2/244.2 kB\u001B[0m \u001B[31m19.9 MB/s\u001B[0m eta \u001B[36m0:00:00\u001B[0m\n",
      "\u001B[2K   \u001B[90m━━━━━━━━━━━━━━━━━━━━━━━━━━━━━━━━━━━━━━━━\u001B[0m \u001B[32m139.2/139.2 kB\u001B[0m \u001B[31m11.5 MB/s\u001B[0m eta \u001B[36m0:00:00\u001B[0m\n",
      "\u001B[2K   \u001B[90m━━━━━━━━━━━━━━━━━━━━━━━━━━━━━━━━━━━━━━━━\u001B[0m \u001B[32m98.7/98.7 MB\u001B[0m \u001B[31m8.0 MB/s\u001B[0m eta \u001B[36m0:00:00\u001B[0m\n",
      "\u001B[2K   \u001B[90m━━━━━━━━━━━━━━━━━━━━━━━━━━━━━━━━━━━━━━━━\u001B[0m \u001B[32m84.1/84.1 kB\u001B[0m \u001B[31m7.3 MB/s\u001B[0m eta \u001B[36m0:00:00\u001B[0m\n",
      "\u001B[2K   \u001B[90m━━━━━━━━━━━━━━━━━━━━━━━━━━━━━━━━━━━━━━━━\u001B[0m \u001B[32m85.5/85.5 kB\u001B[0m \u001B[31m6.8 MB/s\u001B[0m eta \u001B[36m0:00:00\u001B[0m\n",
      "\u001B[2K   \u001B[90m━━━━━━━━━━━━━━━━━━━━━━━━━━━━━━━━━━━━━━━━\u001B[0m \u001B[32m3.1/3.1 MB\u001B[0m \u001B[31m52.9 MB/s\u001B[0m eta \u001B[36m0:00:00\u001B[0m\n",
      "\u001B[2K   \u001B[90m━━━━━━━━━━━━━━━━━━━━━━━━━━━━━━━━━━━━━━━━\u001B[0m \u001B[32m808.5/808.5 kB\u001B[0m \u001B[31m36.6 MB/s\u001B[0m eta \u001B[36m0:00:00\u001B[0m\n",
      "\u001B[2K   \u001B[90m━━━━━━━━━━━━━━━━━━━━━━━━━━━━━━━━━━━━━━━━\u001B[0m \u001B[32m47.6/47.6 kB\u001B[0m \u001B[31m3.1 MB/s\u001B[0m eta \u001B[36m0:00:00\u001B[0m\n",
      "\u001B[2K   \u001B[90m━━━━━━━━━━━━━━━━━━━━━━━━━━━━━━━━━━━━━━━━\u001B[0m \u001B[32m410.5/410.5 kB\u001B[0m \u001B[31m19.3 MB/s\u001B[0m eta \u001B[36m0:00:00\u001B[0m\n",
      "\u001B[2K   \u001B[90m━━━━━━━━━━━━━━━━━━━━━━━━━━━━━━━━━━━━━━━━\u001B[0m \u001B[32m79.3/79.3 kB\u001B[0m \u001B[31m7.0 MB/s\u001B[0m eta \u001B[36m0:00:00\u001B[0m\n",
      "\u001B[2K   \u001B[90m━━━━━━━━━━━━━━━━━━━━━━━━━━━━━━━━━━━━━━━━\u001B[0m \u001B[32m52.7/52.7 kB\u001B[0m \u001B[31m4.6 MB/s\u001B[0m eta \u001B[36m0:00:00\u001B[0m\n",
      "\u001B[2K   \u001B[90m━━━━━━━━━━━━━━━━━━━━━━━━━━━━━━━━━━━━━━━━\u001B[0m \u001B[32m410.0/410.0 kB\u001B[0m \u001B[31m26.5 MB/s\u001B[0m eta \u001B[36m0:00:00\u001B[0m\n",
      "\u001B[2K   \u001B[90m━━━━━━━━━━━━━━━━━━━━━━━━━━━━━━━━━━━━━━━━\u001B[0m \u001B[32m141.9/141.9 kB\u001B[0m \u001B[31m12.0 MB/s\u001B[0m eta \u001B[36m0:00:00\u001B[0m\n",
      "\u001B[2K   \u001B[90m━━━━━━━━━━━━━━━━━━━━━━━━━━━━━━━━━━━━━━━━\u001B[0m \u001B[32m4.5/4.5 MB\u001B[0m \u001B[31m58.4 MB/s\u001B[0m eta \u001B[36m0:00:00\u001B[0m\n",
      "\u001B[2K   \u001B[90m━━━━━━━━━━━━━━━━━━━━━━━━━━━━━━━━━━━━━━━━\u001B[0m \u001B[32m812.3/812.3 kB\u001B[0m \u001B[31m38.5 MB/s\u001B[0m eta \u001B[36m0:00:00\u001B[0m\n",
      "\u001B[2K   \u001B[90m━━━━━━━━━━━━━━━━━━━━━━━━━━━━━━━━━━━━━━━━\u001B[0m \u001B[32m115.3/115.3 kB\u001B[0m \u001B[31m10.3 MB/s\u001B[0m eta \u001B[36m0:00:00\u001B[0m\n",
      "\u001B[2K   \u001B[90m━━━━━━━━━━━━━━━━━━━━━━━━━━━━━━━━━━━━━━━━\u001B[0m \u001B[32m65.1/65.1 MB\u001B[0m \u001B[31m12.1 MB/s\u001B[0m eta \u001B[36m0:00:00\u001B[0m\n",
      "\u001B[2K   \u001B[90m━━━━━━━━━━━━━━━━━━━━━━━━━━━━━━━━━━━━━━━━\u001B[0m \u001B[32m13.2/13.2 MB\u001B[0m \u001B[31m54.5 MB/s\u001B[0m eta \u001B[36m0:00:00\u001B[0m\n",
      "\u001B[2K   \u001B[90m━━━━━━━━━━━━━━━━━━━━━━━━━━━━━━━━━━━━━━━━\u001B[0m \u001B[32m38.4/38.4 MB\u001B[0m \u001B[31m11.3 MB/s\u001B[0m eta \u001B[36m0:00:00\u001B[0m\n",
      "\u001B[2K   \u001B[90m━━━━━━━━━━━━━━━━━━━━━━━━━━━━━━━━━━━━━━━━\u001B[0m \u001B[32m92.0/92.0 kB\u001B[0m \u001B[31m8.5 MB/s\u001B[0m eta \u001B[36m0:00:00\u001B[0m\n",
      "\u001B[2K   \u001B[90m━━━━━━━━━━━━━━━━━━━━━━━━━━━━━━━━━━━━━━━━\u001B[0m \u001B[32m2.2/2.2 MB\u001B[0m \u001B[31m72.2 MB/s\u001B[0m eta \u001B[36m0:00:00\u001B[0m\n",
      "\u001B[2K   \u001B[90m━━━━━━━━━━━━━━━━━━━━━━━━━━━━━━━━━━━━━━━━\u001B[0m \u001B[32m779.1/779.1 MB\u001B[0m \u001B[31m2.4 MB/s\u001B[0m eta \u001B[36m0:00:00\u001B[0m\n",
      "\u001B[2K   \u001B[90m━━━━━━━━━━━━━━━━━━━━━━━━━━━━━━━━━━━━━━━━\u001B[0m \u001B[32m410.6/410.6 MB\u001B[0m \u001B[31m2.6 MB/s\u001B[0m eta \u001B[36m0:00:00\u001B[0m\n",
      "\u001B[2K   \u001B[90m━━━━━━━━━━━━━━━━━━━━━━━━━━━━━━━━━━━━━━━━\u001B[0m \u001B[32m14.1/14.1 MB\u001B[0m \u001B[31m55.1 MB/s\u001B[0m eta \u001B[36m0:00:00\u001B[0m\n",
      "\u001B[2K   \u001B[90m━━━━━━━━━━━━━━━━━━━━━━━━━━━━━━━━━━━━━━━━\u001B[0m \u001B[32m23.7/23.7 MB\u001B[0m \u001B[31m49.8 MB/s\u001B[0m eta \u001B[36m0:00:00\u001B[0m\n",
      "\u001B[2K   \u001B[90m━━━━━━━━━━━━━━━━━━━━━━━━━━━━━━━━━━━━━━━━\u001B[0m \u001B[32m823.6/823.6 kB\u001B[0m \u001B[31m40.3 MB/s\u001B[0m eta \u001B[36m0:00:00\u001B[0m\n",
      "\u001B[2K   \u001B[90m━━━━━━━━━━━━━━━━━━━━━━━━━━━━━━━━━━━━━━━━\u001B[0m \u001B[32m731.7/731.7 MB\u001B[0m \u001B[31m1.9 MB/s\u001B[0m eta \u001B[36m0:00:00\u001B[0m\n",
      "\u001B[2K   \u001B[90m━━━━━━━━━━━━━━━━━━━━━━━━━━━━━━━━━━━━━━━━\u001B[0m \u001B[32m121.6/121.6 MB\u001B[0m \u001B[31m7.7 MB/s\u001B[0m eta \u001B[36m0:00:00\u001B[0m\n",
      "\u001B[2K   \u001B[90m━━━━━━━━━━━━━━━━━━━━━━━━━━━━━━━━━━━━━━━━\u001B[0m \u001B[32m56.5/56.5 MB\u001B[0m \u001B[31m16.1 MB/s\u001B[0m eta \u001B[36m0:00:00\u001B[0m\n",
      "\u001B[2K   \u001B[90m━━━━━━━━━━━━━━━━━━━━━━━━━━━━━━━━━━━━━━━━\u001B[0m \u001B[32m124.2/124.2 MB\u001B[0m \u001B[31m7.5 MB/s\u001B[0m eta \u001B[36m0:00:00\u001B[0m\n",
      "\u001B[2K   \u001B[90m━━━━━━━━━━━━━━━━━━━━━━━━━━━━━━━━━━━━━━━━\u001B[0m \u001B[32m196.0/196.0 MB\u001B[0m \u001B[31m6.3 MB/s\u001B[0m eta \u001B[36m0:00:00\u001B[0m\n",
      "\u001B[2K   \u001B[90m━━━━━━━━━━━━━━━━━━━━━━━━━━━━━━━━━━━━━━━━\u001B[0m \u001B[32m176.2/176.2 MB\u001B[0m \u001B[31m7.1 MB/s\u001B[0m eta \u001B[36m0:00:00\u001B[0m\n",
      "\u001B[2K   \u001B[90m━━━━━━━━━━━━━━━━━━━━━━━━━━━━━━━━━━━━━━━━\u001B[0m \u001B[32m99.1/99.1 kB\u001B[0m \u001B[31m7.8 MB/s\u001B[0m eta \u001B[36m0:00:00\u001B[0m\n",
      "\u001B[2K   \u001B[90m━━━━━━━━━━━━━━━━━━━━━━━━━━━━━━━━━━━━━━━━\u001B[0m \u001B[32m168.1/168.1 MB\u001B[0m \u001B[31m6.9 MB/s\u001B[0m eta \u001B[36m0:00:00\u001B[0m\n",
      "\u001B[2K   \u001B[90m━━━━━━━━━━━━━━━━━━━━━━━━━━━━━━━━━━━━━━━━\u001B[0m \u001B[32m806.1/806.1 kB\u001B[0m \u001B[31m29.5 MB/s\u001B[0m eta \u001B[36m0:00:00\u001B[0m\n",
      "\u001B[2K   \u001B[90m━━━━━━━━━━━━━━━━━━━━━━━━━━━━━━━━━━━━━━━━\u001B[0m \u001B[32m7.0/7.0 MB\u001B[0m \u001B[31m90.5 MB/s\u001B[0m eta \u001B[36m0:00:00\u001B[0m\n",
      "\u001B[2K   \u001B[90m━━━━━━━━━━━━━━━━━━━━━━━━━━━━━━━━━━━━━━━━\u001B[0m \u001B[32m8.8/8.8 MB\u001B[0m \u001B[31m79.5 MB/s\u001B[0m eta \u001B[36m0:00:00\u001B[0m\n",
      "\u001B[2K   \u001B[90m━━━━━━━━━━━━━━━━━━━━━━━━━━━━━━━━━━━━━━━━\u001B[0m \u001B[32m297.1/297.1 MB\u001B[0m \u001B[31m4.4 MB/s\u001B[0m eta \u001B[36m0:00:00\u001B[0m\n",
      "\u001B[2K   \u001B[90m━━━━━━━━━━━━━━━━━━━━━━━━━━━━━━━━━━━━━━━━\u001B[0m \u001B[32m12.5/12.5 MB\u001B[0m \u001B[31m96.9 MB/s\u001B[0m eta \u001B[36m0:00:00\u001B[0m\n",
      "\u001B[2K   \u001B[90m━━━━━━━━━━━━━━━━━━━━━━━━━━━━━━━━━━━━━━━━\u001B[0m \u001B[32m527.3/527.3 kB\u001B[0m \u001B[31m38.1 MB/s\u001B[0m eta \u001B[36m0:00:00\u001B[0m\n",
      "\u001B[2K   \u001B[90m━━━━━━━━━━━━━━━━━━━━━━━━━━━━━━━━━━━━━━━━\u001B[0m \u001B[32m116.3/116.3 kB\u001B[0m \u001B[31m10.6 MB/s\u001B[0m eta \u001B[36m0:00:00\u001B[0m\n",
      "\u001B[2K   \u001B[90m━━━━━━━━━━━━━━━━━━━━━━━━━━━━━━━━━━━━━━━━\u001B[0m \u001B[32m13.2/13.2 MB\u001B[0m \u001B[31m96.3 MB/s\u001B[0m eta \u001B[36m0:00:00\u001B[0m\n",
      "\u001B[2K   \u001B[90m━━━━━━━━━━━━━━━━━━━━━━━━━━━━━━━━━━━━━━━━\u001B[0m \u001B[32m3.0/3.0 MB\u001B[0m \u001B[31m82.1 MB/s\u001B[0m eta \u001B[36m0:00:00\u001B[0m\n",
      "\u001B[2K   \u001B[90m━━━━━━━━━━━━━━━━━━━━━━━━━━━━━━━━━━━━━━━━\u001B[0m \u001B[32m39.9/39.9 MB\u001B[0m \u001B[31m13.8 MB/s\u001B[0m eta \u001B[36m0:00:00\u001B[0m\n",
      "\u001B[2K   \u001B[90m━━━━━━━━━━━━━━━━━━━━━━━━━━━━━━━━━━━━━━━━\u001B[0m \u001B[32m4.5/4.5 MB\u001B[0m \u001B[31m49.5 MB/s\u001B[0m eta \u001B[36m0:00:00\u001B[0m\n",
      "\u001B[2K   \u001B[90m━━━━━━━━━━━━━━━━━━━━━━━━━━━━━━━━━━━━━━━━\u001B[0m \u001B[32m82.7/82.7 kB\u001B[0m \u001B[31m7.4 MB/s\u001B[0m eta \u001B[36m0:00:00\u001B[0m\n",
      "\u001B[2K   \u001B[90m━━━━━━━━━━━━━━━━━━━━━━━━━━━━━━━━━━━━━━━━\u001B[0m \u001B[32m101.7/101.7 kB\u001B[0m \u001B[31m9.1 MB/s\u001B[0m eta \u001B[36m0:00:00\u001B[0m\n",
      "\u001B[2K   \u001B[90m━━━━━━━━━━━━━━━━━━━━━━━━━━━━━━━━━━━━━━━━\u001B[0m \u001B[32m3.6/3.6 MB\u001B[0m \u001B[31m76.4 MB/s\u001B[0m eta \u001B[36m0:00:00\u001B[0m\n",
      "\u001B[2K   \u001B[90m━━━━━━━━━━━━━━━━━━━━━━━━━━━━━━━━━━━━━━━━\u001B[0m \u001B[32m6.0/6.0 MB\u001B[0m \u001B[31m77.1 MB/s\u001B[0m eta \u001B[36m0:00:00\u001B[0m\n",
      "\u001B[2K   \u001B[90m━━━━━━━━━━━━━━━━━━━━━━━━━━━━━━━━━━━━━━━━\u001B[0m \u001B[32m46.0/46.0 kB\u001B[0m \u001B[31m4.0 MB/s\u001B[0m eta \u001B[36m0:00:00\u001B[0m\n",
      "\u001B[2K   \u001B[90m━━━━━━━━━━━━━━━━━━━━━━━━━━━━━━━━━━━━━━━━\u001B[0m \u001B[32m201.4/201.4 kB\u001B[0m \u001B[31m17.9 MB/s\u001B[0m eta \u001B[36m0:00:00\u001B[0m\n",
      "\u001B[2K   \u001B[90m━━━━━━━━━━━━━━━━━━━━━━━━━━━━━━━━━━━━━━━━\u001B[0m \u001B[32m134.8/134.8 kB\u001B[0m \u001B[31m12.2 MB/s\u001B[0m eta \u001B[36m0:00:00\u001B[0m\n",
      "\u001B[2K   \u001B[90m━━━━━━━━━━━━━━━━━━━━━━━━━━━━━━━━━━━━━━━━\u001B[0m \u001B[32m15.9/15.9 MB\u001B[0m \u001B[31m62.5 MB/s\u001B[0m eta \u001B[36m0:00:00\u001B[0m\n",
      "\u001B[2K   \u001B[90m━━━━━━━━━━━━━━━━━━━━━━━━━━━━━━━━━━━━━━━━\u001B[0m \u001B[32m128.2/128.2 kB\u001B[0m \u001B[31m10.0 MB/s\u001B[0m eta \u001B[36m0:00:00\u001B[0m\n",
      "\u001B[2K   \u001B[90m━━━━━━━━━━━━━━━━━━━━━━━━━━━━━━━━━━━━━━━━\u001B[0m \u001B[32m194.1/194.1 kB\u001B[0m \u001B[31m15.4 MB/s\u001B[0m eta \u001B[36m0:00:00\u001B[0m\n",
      "\u001B[2K   \u001B[90m━━━━━━━━━━━━━━━━━━━━━━━━━━━━━━━━━━━━━━━━\u001B[0m \u001B[32m468.9/468.9 kB\u001B[0m \u001B[31m29.0 MB/s\u001B[0m eta \u001B[36m0:00:00\u001B[0m\n",
      "\u001B[2K   \u001B[90m━━━━━━━━━━━━━━━━━━━━━━━━━━━━━━━━━━━━━━━━\u001B[0m \u001B[32m86.8/86.8 kB\u001B[0m \u001B[31m7.7 MB/s\u001B[0m eta \u001B[36m0:00:00\u001B[0m\n",
      "\u001B[2K   \u001B[90m━━━━━━━━━━━━━━━━━━━━━━━━━━━━━━━━━━━━━━━━\u001B[0m \u001B[32m19.7/19.7 MB\u001B[0m \u001B[31m55.6 MB/s\u001B[0m eta \u001B[36m0:00:00\u001B[0m\n",
      "\u001B[2K   \u001B[90m━━━━━━━━━━━━━━━━━━━━━━━━━━━━━━━━━━━━━━━━\u001B[0m \u001B[32m55.3/55.3 kB\u001B[0m \u001B[31m4.0 MB/s\u001B[0m eta \u001B[36m0:00:00\u001B[0m\n",
      "\u001B[2K   \u001B[90m━━━━━━━━━━━━━━━━━━━━━━━━━━━━━━━━━━━━━━━━\u001B[0m \u001B[32m2.1/2.1 MB\u001B[0m \u001B[31m55.1 MB/s\u001B[0m eta \u001B[36m0:00:00\u001B[0m\n",
      "\u001B[?25h  Building wheel for nvidia-ml-py3 (setup.py) ... \u001B[?25l\u001B[?25hdone\n",
      "  Building wheel for antlr4-python3-runtime (setup.py) ... \u001B[?25l\u001B[?25hdone\n",
      "  Building wheel for seqeval (setup.py) ... \u001B[?25l\u001B[?25hdone\n",
      "\u001B[31mERROR: pip's dependency resolver does not currently take into account all the packages that are installed. This behaviour is the source of the following dependency conflicts.\n",
      "albumentations 1.4.14 requires scikit-image>=0.21.0, but you have scikit-image 0.20.0 which is incompatible.\n",
      "cudf-cu12 24.4.1 requires pyarrow<15.0.0a0,>=14.0.1, but you have pyarrow 17.0.0 which is incompatible.\n",
      "ibis-framework 8.0.0 requires pyarrow<16,>=2, but you have pyarrow 17.0.0 which is incompatible.\n",
      "osqp 0.6.7.post0 requires scipy!=1.12.0,>=0.13.2, but you have scipy 1.12.0 which is incompatible.\n",
      "torchaudio 2.4.0+cu121 requires torch==2.4.0, but you have torch 2.3.1 which is incompatible.\u001B[0m\u001B[31m\n",
      "\u001B[2K   \u001B[90m━━━━━━━━━━━━━━━━━━━━━━━━━━━━━━━━━━━━━━━━\u001B[0m \u001B[32m38.3/38.3 MB\u001B[0m \u001B[31m12.8 MB/s\u001B[0m eta \u001B[36m0:00:00\u001B[0m\n",
      "\u001B[?25h\u001B[31mERROR: pip's dependency resolver does not currently take into account all the packages that are installed. This behaviour is the source of the following dependency conflicts.\n",
      "cudf-cu12 24.4.1 requires pyarrow<15.0.0a0,>=14.0.1, but you have pyarrow 15.0.2 which is incompatible.\u001B[0m\u001B[31m\n",
      "\u001B[0m"
     ]
    }
   ],
   "source": [
    "import numpy as np\n",
    "!pip install -q wget\n",
    "!pip install -q autogluon\n",
    "!pip install -q pyarrow==15.0.2\n",
    "!pip install -q pandas"
   ]
  },
  {
   "cell_type": "code",
   "source": [
    "!wget https://zenodo.org/records/3899018/files/LoadProfile_20IPs_2016.csv -q\n",
    "!wget https://zenodo.org/records/3899018/files/LoadProfile_30IPs_2017.csv -q"
   ],
   "metadata": {
    "id": "a4GtA99Oe9i8",
    "ExecuteTime": {
     "end_time": "2024-09-11T01:41:04.668267400Z",
     "start_time": "2024-09-11T01:41:04.519640700Z"
    }
   },
   "execution_count": 2,
   "outputs": []
  },
  {
   "cell_type": "code",
   "source": [
    "!ls"
   ],
   "metadata": {
    "colab": {
     "base_uri": "https://localhost:8080/"
    },
    "id": "CpTArXHNgbwG",
    "outputId": "60d0191b-0689-495c-8119-1197ea34699e",
    "ExecuteTime": {
     "end_time": "2024-09-11T01:52:03.939885800Z",
     "start_time": "2024-09-11T01:52:03.875184100Z"
    }
   },
   "execution_count": 3,
   "outputs": [
    {
     "output_type": "stream",
     "name": "stdout",
     "text": [
      "LoadProfile_20IPs_2016.csv  LoadProfile_30IPs_2017.csv\tsample_data\n"
     ]
    }
   ]
  },
  {
   "cell_type": "code",
   "source": [
    "import pandas as pd\n",
    "from copy import deepcopy\n",
    "import numpy as np\n",
    "from autogluon.timeseries import TimeSeriesDataFrame, TimeSeriesPredictor"
   ],
   "metadata": {
    "id": "ePFVg2WIgjFH",
    "ExecuteTime": {
     "end_time": "2024-09-11T03:05:42.248508Z",
     "start_time": "2024-09-11T03:05:42.218361800Z"
    }
   },
   "execution_count": 4,
   "outputs": []
  },
  {
   "cell_type": "code",
   "execution_count": 66,
   "outputs": [
    {
     "data": {
      "text/plain": "                             target\nitem_id timestamp                  \nLG 1    2016-01-01 00:15:00    39.0\n        2016-01-01 00:30:00    41.0\n        2016-01-01 00:45:00    39.0\n        2016-01-01 01:00:00    40.0\n        2016-01-01 01:15:00    39.0\n...                             ...\nLG 22   2017-08-31 23:00:00     1.6\n        2017-08-31 23:15:00     1.4\n        2017-08-31 23:30:00     1.0\n        2017-08-31 23:45:00     0.7\n        2018-01-01 00:00:00     NaN\n\n[817728 rows x 1 columns]",
      "text/html": "<div>\n<style scoped>\n    .dataframe tbody tr th:only-of-type {\n        vertical-align: middle;\n    }\n\n    .dataframe tbody tr th {\n        vertical-align: top;\n    }\n\n    .dataframe thead th {\n        text-align: right;\n    }\n</style>\n<table border=\"1\" class=\"dataframe\">\n  <thead>\n    <tr style=\"text-align: right;\">\n      <th></th>\n      <th></th>\n      <th>target</th>\n    </tr>\n    <tr>\n      <th>item_id</th>\n      <th>timestamp</th>\n      <th></th>\n    </tr>\n  </thead>\n  <tbody>\n    <tr>\n      <th rowspan=\"5\" valign=\"top\">LG 1</th>\n      <th>2016-01-01 00:15:00</th>\n      <td>39.0</td>\n    </tr>\n    <tr>\n      <th>2016-01-01 00:30:00</th>\n      <td>41.0</td>\n    </tr>\n    <tr>\n      <th>2016-01-01 00:45:00</th>\n      <td>39.0</td>\n    </tr>\n    <tr>\n      <th>2016-01-01 01:00:00</th>\n      <td>40.0</td>\n    </tr>\n    <tr>\n      <th>2016-01-01 01:15:00</th>\n      <td>39.0</td>\n    </tr>\n    <tr>\n      <th>...</th>\n      <th>...</th>\n      <td>...</td>\n    </tr>\n    <tr>\n      <th rowspan=\"5\" valign=\"top\">LG 22</th>\n      <th>2017-08-31 23:00:00</th>\n      <td>1.6</td>\n    </tr>\n    <tr>\n      <th>2017-08-31 23:15:00</th>\n      <td>1.4</td>\n    </tr>\n    <tr>\n      <th>2017-08-31 23:30:00</th>\n      <td>1.0</td>\n    </tr>\n    <tr>\n      <th>2017-08-31 23:45:00</th>\n      <td>0.7</td>\n    </tr>\n    <tr>\n      <th>2018-01-01 00:00:00</th>\n      <td>NaN</td>\n    </tr>\n  </tbody>\n</table>\n<p>817728 rows × 1 columns</p>\n</div>"
     },
     "execution_count": 66,
     "metadata": {},
     "output_type": "execute_result"
    }
   ],
   "source": [
    "prediction_length = 48\n",
    "long_runtime = (3*60-5)*60 # in seconds\n",
    "dev_runtime = 5*60 # in seconds\n",
    "\n",
    "train_1 = pd.read_csv(\"tune/2016_train.csv\")\n",
    "train_2 = pd.read_csv(\"tune/2017_train.csv\")\n",
    "val_1 = pd.read_csv(\"tune/2016_val.csv\")\n",
    "val_2 = pd.read_csv(\"tune/2017_val.csv\")\n",
    "\n",
    "def prepare_AG_data(dfs: list[pd.DataFrame]):\n",
    "    # Prepare Data\n",
    "    melted_dfs = []\n",
    "    for df in dfs:\n",
    "        df = deepcopy(df)#[[\"Time stamp\", \"LG 1\"]]\n",
    "        df.loc[:, [\"Time stamp\"]] = df[\"Time stamp\"].str.replace(r'[^0-9.: ]', '', regex=True).str.strip()\n",
    "        df.loc[:, [\"Time stamp\"]] = pd.to_datetime(df[\"Time stamp\"])\n",
    "        # TODO Normalize Data else MASE means nothing\n",
    "        # Concat Columns & Assign Ids\n",
    "        df = df.melt(id_vars=['Time stamp'], var_name='item_id', value_name='target')\n",
    "        melted_dfs.append(df)\n",
    "    df = pd.concat(melted_dfs)\n",
    "    df = TimeSeriesDataFrame.from_data_frame(\n",
    "        df,\n",
    "        id_column=\"item_id\",\n",
    "        timestamp_column=\"Time stamp\"\n",
    "    )\n",
    "    return df\n",
    "\n",
    "train = prepare_AG_data([train_1, train_2])\n",
    "val = prepare_AG_data([val_1, val_2])\n",
    "train"
   ],
   "metadata": {
    "id": "5o9Va5z8ITzx",
    "outputId": "3ebb8b5f-298e-48d5-d386-8ac619dd0f9a",
    "colab": {
     "base_uri": "https://localhost:8080/",
     "height": 359
    },
    "ExecuteTime": {
     "end_time": "2024-09-11T14:36:29.859740200Z",
     "start_time": "2024-09-11T14:36:28.019307100Z"
    }
   }
  },
  {
   "cell_type": "code",
   "execution_count": 61,
   "outputs": [
    {
     "name": "stderr",
     "output_type": "stream",
     "text": [
      "Beginning AutoGluon training... Time limit = 300s\n",
      "AutoGluon will save models to 'autogluon-m4-hourly'\n",
      "=================== System Info ===================\n",
      "AutoGluon Version:  1.1.1\n",
      "Python Version:     3.9.13\n",
      "Operating System:   Windows\n",
      "Platform Machine:   AMD64\n",
      "Platform Version:   10.0.22631\n",
      "CPU Count:          12\n",
      "GPU Count:          0\n",
      "Memory Avail:       1.16 GB / 15.34 GB (7.5%)\n",
      "Disk Space Avail:   94.20 GB / 474.72 GB (19.8%)\n",
      "===================================================\n",
      "Setting presets to: medium_quality\n",
      "\n",
      "Fitting with arguments:\n",
      "{'enable_ensemble': True,\n",
      " 'eval_metric': MAPE,\n",
      " 'freq': '15min',\n",
      " 'hyperparameters': 'light',\n",
      " 'known_covariates_names': [],\n",
      " 'num_val_windows': 1,\n",
      " 'prediction_length': 48,\n",
      " 'quantile_levels': [0.1, 0.2, 0.3, 0.4, 0.5, 0.6, 0.7, 0.8, 0.9],\n",
      " 'random_seed': 123,\n",
      " 'refit_every_n_windows': 1,\n",
      " 'refit_full': False,\n",
      " 'skip_model_selection': False,\n",
      " 'target': 'target',\n",
      " 'time_limit': 300,\n",
      " 'verbosity': 2}\n",
      "\n",
      "train_data with frequency 'None' has been resampled to frequency '15min'.\n",
      "Provided train_data has 1227648 rows (NaN fraction=33.4%), 31 time series. Median time series length is 35040 (min=35040, max=70176). \n",
      "\n",
      "Provided data contains following columns:\n",
      "\ttarget: 'target'\n",
      "\n",
      "AutoGluon will gauge predictive performance using evaluation metric: 'MAPE'\n",
      "\tThis metric's sign has been flipped to adhere to being higher_is_better. The metric score can be multiplied by -1 to get the metric value.\n",
      "===================================================\n",
      "\n",
      "Starting training. Start time is 2024-09-11 16:12:25\n",
      "Models that will be trained: ['Naive', 'SeasonalNaive', 'RecursiveTabular', 'DirectTabular', 'ETS', 'Theta', 'TemporalFusionTransformer']\n",
      "Training timeseries model Naive. Training for up to 36.7s of the 293.7s of remaining time.\n",
      "\t-8.3223       = Validation score (-MAPE)\n",
      "\t2.61    s     = Training runtime\n",
      "\t7.97    s     = Validation (prediction) runtime\n",
      "Training timeseries model SeasonalNaive. Training for up to 40.4s of the 283.1s of remaining time.\n",
      "\t-8.3223       = Validation score (-MAPE)\n",
      "\t1.24    s     = Training runtime\n",
      "\t0.30    s     = Validation (prediction) runtime\n",
      "Training timeseries model RecursiveTabular. Training for up to 46.9s of the 281.6s of remaining time.\n",
      "\t-2.2699       = Validation score (-MAPE)\n",
      "\t23.98   s     = Training runtime\n",
      "\t4.71    s     = Validation (prediction) runtime\n",
      "Training timeseries model DirectTabular. Training for up to 50.6s of the 252.9s of remaining time.\n",
      "\t-4.1925       = Validation score (-MAPE)\n",
      "\t21.88   s     = Training runtime\n",
      "\t2.91    s     = Validation (prediction) runtime\n",
      "Training timeseries model ETS. Training for up to 57.0s of the 228.0s of remaining time.\n",
      "\t-2.3355       = Validation score (-MAPE)\n",
      "\t1.16    s     = Training runtime\n",
      "\t38.07   s     = Validation (prediction) runtime\n",
      "Training timeseries model Theta. Training for up to 62.9s of the 188.8s of remaining time.\n",
      "\t-2.3355       = Validation score (-MAPE)\n",
      "\t1.39    s     = Training runtime\n",
      "\t35.48   s     = Validation (prediction) runtime\n",
      "Training timeseries model TemporalFusionTransformer. Training for up to 75.9s of the 151.9s of remaining time.\n",
      "\t-1.0030       = Validation score (-MAPE)\n",
      "\t71.08   s     = Training runtime\n",
      "\t0.83    s     = Validation (prediction) runtime\n",
      "Fitting simple weighted ensemble.\n",
      "\tEnsemble weights: {'RecursiveTabular': 0.13, 'TemporalFusionTransformer': 0.87}\n",
      "\t-0.6417       = Validation score (-MAPE)\n",
      "\t1.14    s     = Training runtime\n",
      "\t5.54    s     = Validation (prediction) runtime\n",
      "Training complete. Models trained: ['Naive', 'SeasonalNaive', 'RecursiveTabular', 'DirectTabular', 'ETS', 'Theta', 'TemporalFusionTransformer', 'WeightedEnsemble']\n",
      "Total runtime: 215.51 s\n",
      "Best model: WeightedEnsemble\n",
      "Best model score: -0.6417\n"
     ]
    },
    {
     "name": "stdout",
     "output_type": "stream",
     "text": [
      "CPU times: total: 10min 59s\n",
      "Wall time: 3min 42s\n"
     ]
    }
   ],
   "source": [
    "%%time\n",
    "\n",
    "predictor = TimeSeriesPredictor(\n",
    "    prediction_length=prediction_length,\n",
    "    path=\"autogluon-m4-hourly\",\n",
    "    target=\"target\",\n",
    "    eval_metric=\"MAPE\",\n",
    "    freq=\"15min\"\n",
    ")\n",
    "\n",
    "# Dev Setting\n",
    "predictor = predictor.fit(\n",
    "    train,\n",
    "    presets=\"medium_quality\",\n",
    "    time_limit=dev_runtime,\n",
    ")"
   ],
   "metadata": {
    "id": "1_apvIsLITzy",
    "ExecuteTime": {
     "end_time": "2024-09-11T14:16:00.708151600Z",
     "start_time": "2024-09-11T14:12:18.651888200Z"
    }
   }
  },
  {
   "cell_type": "code",
   "execution_count": 62,
   "outputs": [
    {
     "name": "stderr",
     "output_type": "stream",
     "text": [
      "data with frequency 'None' has been resampled to frequency '15min'.\n",
      "Model not specified in predict, will default to the model with the best validation score: WeightedEnsemble\n"
     ]
    },
    {
     "data": {
      "text/plain": "{'MAPE': -0.23422281837336656}"
     },
     "execution_count": 62,
     "metadata": {},
     "output_type": "execute_result"
    }
   ],
   "source": [
    "predictor.evaluate(val)"
   ],
   "metadata": {
    "collapsed": false,
    "ExecuteTime": {
     "end_time": "2024-09-11T14:16:06.038480500Z",
     "start_time": "2024-09-11T14:16:00.676062400Z"
    }
   }
  },
  {
   "cell_type": "code",
   "execution_count": 63,
   "outputs": [
    {
     "data": {
      "text/plain": "                       model  score_val  pred_time_val  fit_time_marginal  \\\n0           WeightedEnsemble  -0.641658       5.538226           1.143834   \n1  TemporalFusionTransformer  -1.003017       0.828575          71.082603   \n2           RecursiveTabular  -2.269861       4.709651          23.982011   \n3                      Theta  -2.335450      35.483332           1.388065   \n4                        ETS  -2.335450      38.069725           1.158395   \n5              DirectTabular  -4.192494       2.914106          21.878970   \n6              SeasonalNaive  -8.322310       0.299053           1.236411   \n7                      Naive  -8.322310       7.965436           2.612299   \n\n   fit_order  \n0          8  \n1          7  \n2          3  \n3          6  \n4          5  \n5          4  \n6          2  \n7          1  ",
      "text/html": "<div>\n<style scoped>\n    .dataframe tbody tr th:only-of-type {\n        vertical-align: middle;\n    }\n\n    .dataframe tbody tr th {\n        vertical-align: top;\n    }\n\n    .dataframe thead th {\n        text-align: right;\n    }\n</style>\n<table border=\"1\" class=\"dataframe\">\n  <thead>\n    <tr style=\"text-align: right;\">\n      <th></th>\n      <th>model</th>\n      <th>score_val</th>\n      <th>pred_time_val</th>\n      <th>fit_time_marginal</th>\n      <th>fit_order</th>\n    </tr>\n  </thead>\n  <tbody>\n    <tr>\n      <th>0</th>\n      <td>WeightedEnsemble</td>\n      <td>-0.641658</td>\n      <td>5.538226</td>\n      <td>1.143834</td>\n      <td>8</td>\n    </tr>\n    <tr>\n      <th>1</th>\n      <td>TemporalFusionTransformer</td>\n      <td>-1.003017</td>\n      <td>0.828575</td>\n      <td>71.082603</td>\n      <td>7</td>\n    </tr>\n    <tr>\n      <th>2</th>\n      <td>RecursiveTabular</td>\n      <td>-2.269861</td>\n      <td>4.709651</td>\n      <td>23.982011</td>\n      <td>3</td>\n    </tr>\n    <tr>\n      <th>3</th>\n      <td>Theta</td>\n      <td>-2.335450</td>\n      <td>35.483332</td>\n      <td>1.388065</td>\n      <td>6</td>\n    </tr>\n    <tr>\n      <th>4</th>\n      <td>ETS</td>\n      <td>-2.335450</td>\n      <td>38.069725</td>\n      <td>1.158395</td>\n      <td>5</td>\n    </tr>\n    <tr>\n      <th>5</th>\n      <td>DirectTabular</td>\n      <td>-4.192494</td>\n      <td>2.914106</td>\n      <td>21.878970</td>\n      <td>4</td>\n    </tr>\n    <tr>\n      <th>6</th>\n      <td>SeasonalNaive</td>\n      <td>-8.322310</td>\n      <td>0.299053</td>\n      <td>1.236411</td>\n      <td>2</td>\n    </tr>\n    <tr>\n      <th>7</th>\n      <td>Naive</td>\n      <td>-8.322310</td>\n      <td>7.965436</td>\n      <td>2.612299</td>\n      <td>1</td>\n    </tr>\n  </tbody>\n</table>\n</div>"
     },
     "execution_count": 63,
     "metadata": {},
     "output_type": "execute_result"
    }
   ],
   "source": [
    "predictor.leaderboard()"
   ],
   "metadata": {
    "collapsed": false,
    "ExecuteTime": {
     "end_time": "2024-09-11T14:17:27.924522300Z",
     "start_time": "2024-09-11T14:17:27.897930Z"
    }
   }
  },
  {
   "cell_type": "markdown",
   "source": [
    "# Level UP"
   ],
   "metadata": {
    "collapsed": false
   }
  },
  {
   "cell_type": "code",
   "execution_count": 65,
   "outputs": [
    {
     "name": "stderr",
     "output_type": "stream",
     "text": [
      "Beginning AutoGluon training... Time limit = 1200s\n",
      "AutoGluon will save models to 'autogluon-m4-hourly'\n",
      "=================== System Info ===================\n",
      "AutoGluon Version:  1.1.1\n",
      "Python Version:     3.9.13\n",
      "Operating System:   Windows\n",
      "Platform Machine:   AMD64\n",
      "Platform Version:   10.0.22631\n",
      "CPU Count:          12\n",
      "GPU Count:          0\n",
      "Memory Avail:       2.54 GB / 15.34 GB (16.6%)\n",
      "Disk Space Avail:   95.84 GB / 474.72 GB (20.2%)\n",
      "===================================================\n",
      "Setting presets to: best_quality\n",
      "\n",
      "Fitting with arguments:\n",
      "{'enable_ensemble': True,\n",
      " 'eval_metric': MAPE,\n",
      " 'freq': '15min',\n",
      " 'hyperparameters': 'default',\n",
      " 'known_covariates_names': [],\n",
      " 'num_val_windows': 2,\n",
      " 'prediction_length': 48,\n",
      " 'quantile_levels': [0.1, 0.2, 0.3, 0.4, 0.5, 0.6, 0.7, 0.8, 0.9],\n",
      " 'random_seed': 123,\n",
      " 'refit_every_n_windows': 1,\n",
      " 'refit_full': False,\n",
      " 'skip_model_selection': False,\n",
      " 'target': 'target',\n",
      " 'time_limit': 1200,\n",
      " 'verbosity': 2}\n",
      "\n",
      "train_data with frequency 'None' has been resampled to frequency '15min'.\n",
      "Provided train_data has 1227648 rows (NaN fraction=33.4%), 31 time series. Median time series length is 35040 (min=35040, max=70176). \n",
      "\n",
      "Provided data contains following columns:\n",
      "\ttarget: 'target'\n",
      "\n",
      "AutoGluon will gauge predictive performance using evaluation metric: 'MAPE'\n",
      "\tThis metric's sign has been flipped to adhere to being higher_is_better. The metric score can be multiplied by -1 to get the metric value.\n",
      "===================================================\n",
      "\n",
      "Starting training. Start time is 2024-09-11 16:20:47\n",
      "Models that will be trained: ['SeasonalNaive', 'RecursiveTabular', 'DirectTabular', 'CrostonSBA', 'NPTS', 'DynamicOptimizedTheta', 'AutoETS', 'AutoARIMA', 'Chronos[base]', 'TemporalFusionTransformer', 'DeepAR', 'PatchTST']\n",
      "Training timeseries model SeasonalNaive. Training for up to 92.2s of the 1198.7s of remaining time.\n",
      "\tnan           = Validation score (-MAPE)\n",
      "\t5.16    s     = Training runtime\n",
      "\t0.23    s     = Validation (prediction) runtime\n",
      "Training timeseries model RecursiveTabular. Training for up to 99.4s of the 1193.3s of remaining time.\n",
      "\tnan           = Validation score (-MAPE)\n",
      "\t92.88   s     = Training runtime\n",
      "\t4.86    s     = Validation (prediction) runtime\n",
      "Training timeseries model DirectTabular. Training for up to 99.6s of the 1095.6s of remaining time.\n",
      "\tnan           = Validation score (-MAPE)\n",
      "\t37.57   s     = Training runtime\n",
      "\t2.70    s     = Validation (prediction) runtime\n",
      "Training timeseries model CrostonSBA. Training for up to 105.5s of the 1055.3s of remaining time.\n",
      "\tnan           = Validation score (-MAPE)\n",
      "\t16.90   s     = Training runtime\n",
      "\t0.38    s     = Validation (prediction) runtime\n",
      "Training timeseries model NPTS. Training for up to 115.3s of the 1038.0s of remaining time.\n",
      "\tnan           = Validation score (-MAPE)\n",
      "\t2.30    s     = Training runtime\n",
      "\t0.23    s     = Validation (prediction) runtime\n",
      "Training timeseries model DynamicOptimizedTheta. Training for up to 129.4s of the 1035.4s of remaining time.\n",
      "\tnan           = Validation score (-MAPE)\n",
      "\t36.32   s     = Training runtime\n",
      "\t0.95    s     = Validation (prediction) runtime\n",
      "Training timeseries model AutoETS. Training for up to 142.6s of the 998.1s of remaining time.\n",
      "\tnan           = Validation score (-MAPE)\n",
      "\t20.76   s     = Training runtime\n",
      "\t1.18    s     = Validation (prediction) runtime\n",
      "Training timeseries model AutoARIMA. Training for up to 162.7s of the 976.1s of remaining time.\n",
      "\tnan           = Validation score (-MAPE)\n",
      "\t11.53   s     = Training runtime\n",
      "\t0.59    s     = Validation (prediction) runtime\n",
      "Training timeseries model Chronos[base]. Training for up to 192.8s of the 964.0s of remaining time.\n",
      "\tWarning: Exception caused Chronos[base] to fail during training... Skipping this model.\n",
      "\tChronos[base]\\W0 requires a GPU to run, but no GPU was detected. Please make sure that you are using a computer with a CUDA-compatible GPU and `import torch; torch.cuda.is_available()` returns `True`.\n",
      "Training timeseries model TemporalFusionTransformer. Training for up to 240.7s of the 962.7s of remaining time.\n",
      "\tnan           = Validation score (-MAPE)\n",
      "\t230.92  s     = Training runtime\n",
      "\t1.11    s     = Validation (prediction) runtime\n",
      "Training timeseries model DeepAR. Training for up to 243.5s of the 730.6s of remaining time.\n",
      "\tnan           = Validation score (-MAPE)\n",
      "\t233.76  s     = Training runtime\n",
      "\t3.40    s     = Validation (prediction) runtime\n",
      "Training timeseries model PatchTST. Training for up to 246.7s of the 493.4s of remaining time.\n",
      "\tnan           = Validation score (-MAPE)\n",
      "\t233.13  s     = Training runtime\n",
      "\t0.53    s     = Validation (prediction) runtime\n",
      "Fitting simple weighted ensemble.\n",
      "C:\\Users\\Jimmy\\Documents\\UNI\\Projects\\24cast\\venv\\lib\\site-packages\\autogluon\\core\\models\\greedy_ensemble\\ensemble_selection.py:136: RuntimeWarning: All-NaN slice encountered\n",
      "  all_best = np.argwhere(scores == np.nanmin(scores)).flatten()\n",
      "\tWarning: Exception caused ensemble to fail during training... Skipping this model.\n",
      "\t'a' cannot be empty unless no samples are taken\n",
      "Training complete. Models trained: ['SeasonalNaive', 'RecursiveTabular', 'DirectTabular', 'CrostonSBA', 'NPTS', 'DynamicOptimizedTheta', 'AutoETS', 'AutoARIMA', 'TemporalFusionTransformer', 'DeepAR', 'PatchTST']\n",
      "Total runtime: 940.33 s\n",
      "Best model: SeasonalNaive\n",
      "Best model score: nan\n"
     ]
    },
    {
     "name": "stdout",
     "output_type": "stream",
     "text": [
      "CPU times: total: 1h 42min 26s\n",
      "Wall time: 15min 41s\n"
     ]
    }
   ],
   "source": [
    "%%time\n",
    "\n",
    "predictor = TimeSeriesPredictor(\n",
    "    prediction_length=prediction_length,\n",
    "    path=\"autogluon-m4-hourly\",\n",
    "    target=\"target\",\n",
    "    eval_metric=\"MAPE\",\n",
    "    freq=\"15min\"\n",
    ")\n",
    "\n",
    "# TODO Increase Time Limit For Final Version\n",
    "predictor = predictor.fit(\n",
    "    train,\n",
    "    presets=\"best_quality\",\n",
    "    time_limit=long_runtime,\n",
    ")"
   ],
   "metadata": {
    "collapsed": false,
    "ExecuteTime": {
     "end_time": "2024-09-11T14:36:28.008208800Z",
     "start_time": "2024-09-11T14:20:46.315409800Z"
    }
   }
  },
  {
   "cell_type": "code",
   "execution_count": 67,
   "outputs": [
    {
     "name": "stderr",
     "output_type": "stream",
     "text": [
      "data with frequency 'None' has been resampled to frequency '15min'.\n",
      "Model not specified in predict, will default to the model with the best validation score: SeasonalNaive\n"
     ]
    },
    {
     "name": "stdout",
     "output_type": "stream",
     "text": [
      "{'MAPE': -0.5134284752677395}\n"
     ]
    },
    {
     "data": {
      "text/plain": "                        model  score_val  pred_time_val  fit_time_marginal  \\\n0   TemporalFusionTransformer        NaN       1.105947         230.919984   \n1               SeasonalNaive        NaN       0.230238           5.161949   \n2            RecursiveTabular        NaN       4.860324          92.884815   \n3                    PatchTST        NaN       0.527223         233.131572   \n4                        NPTS        NaN       0.234210           2.296155   \n5       DynamicOptimizedTheta        NaN       0.948643          36.317193   \n6               DirectTabular        NaN       2.703185          37.566162   \n7                      DeepAR        NaN       3.402964         233.758418   \n8                  CrostonSBA        NaN       0.375515          16.903844   \n9                     AutoETS        NaN       1.180979          20.756185   \n10                  AutoARIMA        NaN       0.594666          11.525700   \n\n    fit_order  \n0           9  \n1           1  \n2           2  \n3          11  \n4           5  \n5           6  \n6           3  \n7          10  \n8           4  \n9           7  \n10          8  ",
      "text/html": "<div>\n<style scoped>\n    .dataframe tbody tr th:only-of-type {\n        vertical-align: middle;\n    }\n\n    .dataframe tbody tr th {\n        vertical-align: top;\n    }\n\n    .dataframe thead th {\n        text-align: right;\n    }\n</style>\n<table border=\"1\" class=\"dataframe\">\n  <thead>\n    <tr style=\"text-align: right;\">\n      <th></th>\n      <th>model</th>\n      <th>score_val</th>\n      <th>pred_time_val</th>\n      <th>fit_time_marginal</th>\n      <th>fit_order</th>\n    </tr>\n  </thead>\n  <tbody>\n    <tr>\n      <th>0</th>\n      <td>TemporalFusionTransformer</td>\n      <td>NaN</td>\n      <td>1.105947</td>\n      <td>230.919984</td>\n      <td>9</td>\n    </tr>\n    <tr>\n      <th>1</th>\n      <td>SeasonalNaive</td>\n      <td>NaN</td>\n      <td>0.230238</td>\n      <td>5.161949</td>\n      <td>1</td>\n    </tr>\n    <tr>\n      <th>2</th>\n      <td>RecursiveTabular</td>\n      <td>NaN</td>\n      <td>4.860324</td>\n      <td>92.884815</td>\n      <td>2</td>\n    </tr>\n    <tr>\n      <th>3</th>\n      <td>PatchTST</td>\n      <td>NaN</td>\n      <td>0.527223</td>\n      <td>233.131572</td>\n      <td>11</td>\n    </tr>\n    <tr>\n      <th>4</th>\n      <td>NPTS</td>\n      <td>NaN</td>\n      <td>0.234210</td>\n      <td>2.296155</td>\n      <td>5</td>\n    </tr>\n    <tr>\n      <th>5</th>\n      <td>DynamicOptimizedTheta</td>\n      <td>NaN</td>\n      <td>0.948643</td>\n      <td>36.317193</td>\n      <td>6</td>\n    </tr>\n    <tr>\n      <th>6</th>\n      <td>DirectTabular</td>\n      <td>NaN</td>\n      <td>2.703185</td>\n      <td>37.566162</td>\n      <td>3</td>\n    </tr>\n    <tr>\n      <th>7</th>\n      <td>DeepAR</td>\n      <td>NaN</td>\n      <td>3.402964</td>\n      <td>233.758418</td>\n      <td>10</td>\n    </tr>\n    <tr>\n      <th>8</th>\n      <td>CrostonSBA</td>\n      <td>NaN</td>\n      <td>0.375515</td>\n      <td>16.903844</td>\n      <td>4</td>\n    </tr>\n    <tr>\n      <th>9</th>\n      <td>AutoETS</td>\n      <td>NaN</td>\n      <td>1.180979</td>\n      <td>20.756185</td>\n      <td>7</td>\n    </tr>\n    <tr>\n      <th>10</th>\n      <td>AutoARIMA</td>\n      <td>NaN</td>\n      <td>0.594666</td>\n      <td>11.525700</td>\n      <td>8</td>\n    </tr>\n  </tbody>\n</table>\n</div>"
     },
     "execution_count": 67,
     "metadata": {},
     "output_type": "execute_result"
    }
   ],
   "source": [
    "print(predictor.evaluate(val))\n",
    "predictor.leaderboard()"
   ],
   "metadata": {
    "collapsed": false,
    "ExecuteTime": {
     "end_time": "2024-09-11T14:42:20.080958100Z",
     "start_time": "2024-09-11T14:42:13.316020900Z"
    }
   }
  },
  {
   "cell_type": "markdown",
   "source": [
    "## Full Search"
   ],
   "metadata": {
    "collapsed": false
   }
  },
  {
   "cell_type": "code",
   "execution_count": null,
   "outputs": [],
   "source": [
    "# Model Exploration Exploration \n",
    "# TODO Custom Config that compares all Models from Model Zoo\n",
    "predictor = TimeSeriesPredictor(prediction_length=prediction_length)\n",
    "predictor = predictor.fit(\n",
    "    train,\n",
    "    hyperparameters={\n",
    "        \"Chronos\": {\n",
    "            \"model_path\": \"tiny\",\n",
    "            \"batch_size\": 64,\n",
    "            \"device\": \"cpu\",\n",
    "        },\n",
    "        \"NaiveModel\": {},\n",
    "        \"SeasonalNaiveModel\": {},\n",
    "        \"AverageModel\": {},\n",
    "        \"SeasonalAverageModel\": {},\n",
    "        \"ZeroModel\": {},\n",
    "        \"ETSModel\": {},\n",
    "        \"AutoARIMAModel\": {},\n",
    "        \"AutoETSModel\": {},\n",
    "        \"AutoCESModel\": {},\n",
    "        \"ThetaModel\": {},\n",
    "        \"ADIDAModel\": {},\n",
    "        \"CrostonClassicModel\": {},\n",
    "        \"CrostonOptimizedModel\": {},\n",
    "        \"CrostonSBAModel\": {},\n",
    "        \"IMAPAModel\": {},\n",
    "        \"NPTSModel\": {},\n",
    "        \"DeepARModel\": {},\n",
    "        \"DLinearModel\": {},\n",
    "        \"PatchTSTModel\": {},\n",
    "        \"SimpleFeedForwardModel\": {},\n",
    "        \"TemporalFusionTransformerModel\": {},\n",
    "        \"TiDEModel\": {},\n",
    "        \"WaveNetModel\": {},\n",
    "        \"DirectTabularModel\": {},\n",
    "        \"RecursiveTabularModel\": {},\n",
    "    },\n",
    "    # skip running backtests during `fit`, as only consider 1 model\n",
    "    skip_model_selection=True, \n",
    "    verbosity=0,\n",
    ")\n",
    "# TODO Train for a few hours (with GPU)\n",
    "predictor = predictor.fit(\n",
    "    train,\n",
    "    presets=\"best_quality\",\n",
    "    time_limit=long_runtime, # Colab Timeout\n",
    ")\n",
    "\n",
    "# TODO Investigate Leaderboard\n",
    "print(predictor.evaluate(val))\n",
    "predictor.leaderboard()"
   ],
   "metadata": {
    "collapsed": false
   }
  },
  {
   "cell_type": "code",
   "execution_count": null,
   "outputs": [],
   "source": [
    "# TODO Tune best found Config"
   ],
   "metadata": {
    "collapsed": false
   }
  },
  {
   "cell_type": "markdown",
   "source": [
    "# Chronos"
   ],
   "metadata": {
    "collapsed": false
   }
  },
  {
   "cell_type": "code",
   "source": [
    "# TODO Test out Tiny Chronos compare to Large Chronos -> GPU and delay Worth it\n",
    "# TODO Is Finetuned Tiny much better than untuned Tiny\n",
    "# TODO Speed up Chronos\n",
    "# TODO How compare to classical AG"
   ],
   "metadata": {
    "id": "0huMUVTVKtzy"
   },
   "execution_count": null,
   "outputs": []
  }
 ]
}
