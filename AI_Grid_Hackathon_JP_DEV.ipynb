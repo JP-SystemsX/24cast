{
 "nbformat": 4,
 "nbformat_minor": 0,
 "metadata": {
  "colab": {
   "provenance": []
  },
  "kernelspec": {
   "name": "python3",
   "language": "python",
   "display_name": "Python 3 (ipykernel)"
  },
  "language_info": {
   "name": "python"
  }
 },
 "cells": [
  {
   "cell_type": "code",
   "execution_count": 4,
   "metadata": {
    "id": "5tt36fSBdgEb",
    "ExecuteTime": {
     "end_time": "2024-09-11T01:40:41.305838800Z",
     "start_time": "2024-09-11T01:38:18.260334800Z"
    }
   },
   "outputs": [
    {
     "name": "stderr",
     "output_type": "stream",
     "text": [
      "\n",
      "[notice] A new release of pip is available: 23.2.1 -> 24.2\n",
      "[notice] To update, run: python.exe -m pip install --upgrade pip\n",
      "ERROR: Could not install packages due to an OSError: [WinError 5] Access is denied: 'C:\\\\Users\\\\Jimmy\\\\Documents\\\\UNI\\\\Projects\\\\24cast\\\\venv\\\\Lib\\\\site-packages\\\\~sutil\\\\_psutil_windows.pyd'\n",
      "Check the permissions.\n",
      "\n",
      "\n",
      "[notice] A new release of pip is available: 23.2.1 -> 24.2\n",
      "[notice] To update, run: python.exe -m pip install --upgrade pip\n"
     ]
    },
    {
     "name": "stdout",
     "output_type": "stream",
     "text": [
      "Collecting pyarrow==15.0.2\n",
      "  Obtaining dependency information for pyarrow==15.0.2 from https://files.pythonhosted.org/packages/7a/28/00e4a73935363a6b80837216b7a9746ac32ee4af8ac65c84954aad73cbb8/pyarrow-15.0.2-cp39-cp39-win_amd64.whl.metadata\n",
      "  Downloading pyarrow-15.0.2-cp39-cp39-win_amd64.whl.metadata (3.1 kB)\n",
      "Collecting numpy<2,>=1.16.6 (from pyarrow==15.0.2)\n",
      "  Obtaining dependency information for numpy<2,>=1.16.6 from https://files.pythonhosted.org/packages/b5/42/054082bd8220bbf6f297f982f0a8f5479fcbc55c8b511d928df07b965869/numpy-1.26.4-cp39-cp39-win_amd64.whl.metadata\n",
      "  Using cached numpy-1.26.4-cp39-cp39-win_amd64.whl.metadata (61 kB)\n",
      "Downloading pyarrow-15.0.2-cp39-cp39-win_amd64.whl (24.9 MB)\n",
      "   ---------------------------------------- 0.0/24.9 MB ? eta -:--:--\n",
      "   ---------------------------------------- 0.3/24.9 MB 5.7 MB/s eta 0:00:05\n",
      "   - -------------------------------------- 1.0/24.9 MB 10.6 MB/s eta 0:00:03\n",
      "   - -------------------------------------- 1.0/24.9 MB 11.0 MB/s eta 0:00:03\n",
      "   - -------------------------------------- 1.0/24.9 MB 11.0 MB/s eta 0:00:03\n",
      "   - -------------------------------------- 1.0/24.9 MB 11.0 MB/s eta 0:00:03\n",
      "   - -------------------------------------- 1.0/24.9 MB 11.0 MB/s eta 0:00:03\n",
      "   --- ------------------------------------ 1.9/24.9 MB 5.8 MB/s eta 0:00:04\n",
      "   --- ------------------------------------ 2.1/24.9 MB 6.0 MB/s eta 0:00:04\n",
      "   --- ------------------------------------ 2.2/24.9 MB 5.3 MB/s eta 0:00:05\n",
      "   ----- ---------------------------------- 3.1/24.9 MB 7.2 MB/s eta 0:00:04\n",
      "   ----- ---------------------------------- 3.1/24.9 MB 7.2 MB/s eta 0:00:04\n",
      "   ----- ---------------------------------- 3.6/24.9 MB 6.3 MB/s eta 0:00:04\n",
      "   ------ --------------------------------- 4.2/24.9 MB 7.0 MB/s eta 0:00:03\n",
      "   ------ --------------------------------- 4.2/24.9 MB 7.0 MB/s eta 0:00:03\n",
      "   -------- ------------------------------- 5.0/24.9 MB 7.1 MB/s eta 0:00:03\n",
      "   -------- ------------------------------- 5.2/24.9 MB 7.3 MB/s eta 0:00:03\n",
      "   -------- ------------------------------- 5.2/24.9 MB 7.3 MB/s eta 0:00:03\n",
      "   -------- ------------------------------- 5.2/24.9 MB 7.3 MB/s eta 0:00:03\n",
      "   -------- ------------------------------- 5.2/24.9 MB 7.3 MB/s eta 0:00:03\n",
      "   -------- ------------------------------- 5.2/24.9 MB 7.3 MB/s eta 0:00:03\n",
      "   -------- ------------------------------- 5.2/24.9 MB 7.3 MB/s eta 0:00:03\n",
      "   --------- ------------------------------ 6.2/24.9 MB 5.9 MB/s eta 0:00:04\n",
      "   ---------- ----------------------------- 6.3/24.9 MB 6.0 MB/s eta 0:00:04\n",
      "   ---------- ----------------------------- 6.3/24.9 MB 6.0 MB/s eta 0:00:04\n",
      "   ---------- ----------------------------- 6.3/24.9 MB 6.0 MB/s eta 0:00:04\n",
      "   ---------- ----------------------------- 6.3/24.9 MB 5.1 MB/s eta 0:00:04\n",
      "   ----------- ---------------------------- 7.3/24.9 MB 5.7 MB/s eta 0:00:04\n",
      "   ----------- ---------------------------- 7.3/24.9 MB 5.7 MB/s eta 0:00:04\n",
      "   ------------- -------------------------- 8.3/24.9 MB 6.0 MB/s eta 0:00:03\n",
      "   ------------- -------------------------- 8.4/24.9 MB 6.0 MB/s eta 0:00:03\n",
      "   -------------- ------------------------- 9.1/24.9 MB 6.1 MB/s eta 0:00:03\n",
      "   --------------- ------------------------ 9.4/24.9 MB 6.3 MB/s eta 0:00:03\n",
      "   --------------- ------------------------ 9.5/24.9 MB 6.0 MB/s eta 0:00:03\n",
      "   ---------------- ----------------------- 10.5/24.9 MB 6.5 MB/s eta 0:00:03\n",
      "   ---------------- ----------------------- 10.5/24.9 MB 6.5 MB/s eta 0:00:03\n",
      "   ------------------ --------------------- 11.5/24.9 MB 7.3 MB/s eta 0:00:02\n",
      "   ------------------ --------------------- 11.5/24.9 MB 7.3 MB/s eta 0:00:02\n",
      "   ------------------ --------------------- 11.7/24.9 MB 6.8 MB/s eta 0:00:02\n",
      "   ------------------ --------------------- 11.7/24.9 MB 6.8 MB/s eta 0:00:02\n",
      "   -------------------- ------------------- 12.6/24.9 MB 7.1 MB/s eta 0:00:02\n",
      "   -------------------- ------------------- 13.0/24.9 MB 6.7 MB/s eta 0:00:02\n",
      "   --------------------- ------------------ 13.6/24.9 MB 7.3 MB/s eta 0:00:02\n",
      "   --------------------- ------------------ 13.6/24.9 MB 7.3 MB/s eta 0:00:02\n",
      "   ----------------------- ---------------- 14.7/24.9 MB 7.3 MB/s eta 0:00:02\n",
      "   ----------------------- ---------------- 14.7/24.9 MB 7.3 MB/s eta 0:00:02\n",
      "   ------------------------ --------------- 15.1/24.9 MB 6.8 MB/s eta 0:00:02\n",
      "   ------------------------- -------------- 15.7/24.9 MB 8.5 MB/s eta 0:00:02\n",
      "   ------------------------- -------------- 15.7/24.9 MB 8.5 MB/s eta 0:00:02\n",
      "   ------------------------- -------------- 15.7/24.9 MB 8.5 MB/s eta 0:00:02\n",
      "   -------------------------- ------------- 16.8/24.9 MB 9.2 MB/s eta 0:00:01\n",
      "   -------------------------- ------------- 16.8/24.9 MB 9.2 MB/s eta 0:00:01\n",
      "   -------------------------- ------------- 16.8/24.9 MB 9.2 MB/s eta 0:00:01\n",
      "   --------------------------- ------------ 17.0/24.9 MB 8.1 MB/s eta 0:00:01\n",
      "   ---------------------------- ----------- 17.8/24.9 MB 8.6 MB/s eta 0:00:01\n",
      "   ---------------------------- ----------- 17.8/24.9 MB 8.6 MB/s eta 0:00:01\n",
      "   ----------------------------- ---------- 18.2/24.9 MB 7.9 MB/s eta 0:00:01\n",
      "   ----------------------------- ---------- 18.5/24.9 MB 7.7 MB/s eta 0:00:01\n",
      "   ------------------------------ --------- 18.9/24.9 MB 7.9 MB/s eta 0:00:01\n",
      "   ------------------------------ --------- 18.9/24.9 MB 7.9 MB/s eta 0:00:01\n",
      "   ------------------------------ --------- 19.0/24.9 MB 7.4 MB/s eta 0:00:01\n",
      "   -------------------------------- ------- 19.9/24.9 MB 7.8 MB/s eta 0:00:01\n",
      "   -------------------------------- ------- 19.9/24.9 MB 7.8 MB/s eta 0:00:01\n",
      "   --------------------------------- ------ 20.7/24.9 MB 7.4 MB/s eta 0:00:01\n",
      "   --------------------------------- ------ 21.0/24.9 MB 7.6 MB/s eta 0:00:01\n",
      "   --------------------------------- ------ 21.1/24.9 MB 7.2 MB/s eta 0:00:01\n",
      "   ----------------------------------- ---- 22.0/24.9 MB 8.1 MB/s eta 0:00:01\n",
      "   ----------------------------------- ---- 22.0/24.9 MB 8.1 MB/s eta 0:00:01\n",
      "   ----------------------------------- ---- 22.0/24.9 MB 8.1 MB/s eta 0:00:01\n",
      "   ----------------------------------- ---- 22.0/24.9 MB 8.1 MB/s eta 0:00:01\n",
      "   ------------------------------------- -- 23.1/24.9 MB 7.4 MB/s eta 0:00:01\n",
      "   ------------------------------------- -- 23.1/24.9 MB 7.4 MB/s eta 0:00:01\n",
      "   ------------------------------------- -- 23.1/24.9 MB 7.4 MB/s eta 0:00:01\n",
      "   ------------------------------------- -- 23.1/24.9 MB 7.4 MB/s eta 0:00:01\n",
      "   ------------------------------------- -- 23.1/24.9 MB 7.4 MB/s eta 0:00:01\n",
      "   ------------------------------------- -- 23.1/24.9 MB 7.4 MB/s eta 0:00:01\n",
      "   ------------------------------------- -- 23.1/24.9 MB 7.4 MB/s eta 0:00:01\n",
      "   ------------------------------------- -- 23.1/24.9 MB 7.4 MB/s eta 0:00:01\n",
      "   ------------------------------------- -- 23.1/24.9 MB 7.4 MB/s eta 0:00:01\n",
      "   ------------------------------------- -- 23.1/24.9 MB 7.4 MB/s eta 0:00:01\n",
      "   ------------------------------------- -- 23.1/24.9 MB 7.4 MB/s eta 0:00:01\n",
      "   ------------------------------------- -- 23.1/24.9 MB 7.4 MB/s eta 0:00:01\n",
      "   ------------------------------------- -- 23.1/24.9 MB 7.4 MB/s eta 0:00:01\n",
      "   ------------------------------------- -- 23.1/24.9 MB 7.4 MB/s eta 0:00:01\n",
      "   ------------------------------------- -- 23.1/24.9 MB 7.4 MB/s eta 0:00:01\n",
      "   ------------------------------------- -- 23.1/24.9 MB 7.4 MB/s eta 0:00:01\n",
      "   ------------------------------------- -- 23.1/24.9 MB 4.8 MB/s eta 0:00:01\n",
      "   ------------------------------------- -- 23.3/24.9 MB 4.6 MB/s eta 0:00:01\n",
      "   -------------------------------------- - 23.7/24.9 MB 4.6 MB/s eta 0:00:01\n",
      "   ---------------------------------------  24.5/24.9 MB 4.7 MB/s eta 0:00:01\n",
      "   ---------------------------------------  24.9/24.9 MB 4.7 MB/s eta 0:00:01\n",
      "   ---------------------------------------- 24.9/24.9 MB 4.5 MB/s eta 0:00:00\n",
      "Using cached numpy-1.26.4-cp39-cp39-win_amd64.whl (15.8 MB)\n",
      "Installing collected packages: numpy, pyarrow\n",
      "Successfully installed numpy-1.26.4 pyarrow-15.0.2\n"
     ]
    },
    {
     "name": "stderr",
     "output_type": "stream",
     "text": [
      "\n",
      "[notice] A new release of pip is available: 23.2.1 -> 24.2\n",
      "[notice] To update, run: python.exe -m pip install --upgrade pip\n"
     ]
    }
   ],
   "source": [
    "import numpy as np\n",
    "!pip install -q wget\n",
    "!pip install -q autogluon\n",
    "!pip install -q pyarrow==15.0.2\n",
    "!pip install -q pandas"
   ]
  },
  {
   "cell_type": "code",
   "source": [
    "!wget https://zenodo.org/records/3899018/files/LoadProfile_20IPs_2016.csv -q\n",
    "!wget https://zenodo.org/records/3899018/files/LoadProfile_30IPs_2017.csv -q"
   ],
   "metadata": {
    "id": "a4GtA99Oe9i8",
    "ExecuteTime": {
     "end_time": "2024-09-11T01:41:04.668267400Z",
     "start_time": "2024-09-11T01:41:04.519640700Z"
    }
   },
   "execution_count": 1,
   "outputs": [
    {
     "name": "stderr",
     "output_type": "stream",
     "text": [
      "'wget' is not recognized as an internal or external command,\n",
      "operable program or batch file.\n",
      "'wget' is not recognized as an internal or external command,\n",
      "operable program or batch file.\n"
     ]
    }
   ]
  },
  {
   "cell_type": "code",
   "source": [
    "!ls"
   ],
   "metadata": {
    "colab": {
     "base_uri": "https://localhost:8080/"
    },
    "id": "CpTArXHNgbwG",
    "outputId": "b85ce1a9-0f6a-44ed-ce05-cf72cf926934",
    "ExecuteTime": {
     "end_time": "2024-09-11T01:52:03.939885800Z",
     "start_time": "2024-09-11T01:52:03.875184100Z"
    }
   },
   "execution_count": 4,
   "outputs": [
    {
     "name": "stderr",
     "output_type": "stream",
     "text": [
      "'ls' is not recognized as an internal or external command,\n",
      "operable program or batch file.\n"
     ]
    }
   ]
  },
  {
   "cell_type": "code",
   "source": [
    "import pandas as pd\n",
    "from copy import deepcopy\n",
    "import numpy as np"
   ],
   "metadata": {
    "id": "ePFVg2WIgjFH",
    "ExecuteTime": {
     "end_time": "2024-09-11T03:05:42.248508Z",
     "start_time": "2024-09-11T03:05:42.218361800Z"
    }
   },
   "execution_count": 11,
   "outputs": []
  },
  {
   "cell_type": "code",
   "execution_count": 2,
   "outputs": [
    {
     "data": {
      "text/plain": "            Time stamp  LG 1    LG 2    LG 3   LG 4   LG 5  LG 6  LG 7  LG 8  \\\n0  01.01.2016 00:15:00    39  332.16  10.552  416.0  13.12  0.12   6.0   120   \n1  01.01.2016 00:30:00    41  321.36  10.300  418.4  13.12  0.24   6.0   116   \n2  01.01.2016 00:45:00    39  336.48  10.348  419.6  13.76  0.12   6.0   108   \n3  01.01.2016 01:00:00    40  319.20  10.600  422.0  13.44  0.12   8.0   112   \n4  01.01.2016 01:15:00    39  322.80  10.148  418.8  13.44  0.24   6.0   120   \n\n   LG 9  ...  LG 11   LG 12  LG 13  LG 14   LG 15  LG 16  LG 17  LG 18  LG 19  \\\n0    70  ...    0.0  27.400   29.6   65.0  2462.4  6.200   0.96   25.8  11.46   \n1    74  ...    0.0  25.448   30.4   66.0  2462.4  6.200   0.90   34.2  11.32   \n2    68  ...    0.0  27.000   30.4   68.0  2459.2  5.876   0.90   38.4  11.62   \n3    80  ...    0.0  27.552   29.6   67.0  2451.2  6.200   1.02   19.8   9.40   \n4    72  ...  272.0  24.900   31.2   66.0  2436.8  6.200   0.90   16.8  10.58   \n\n   LG 20  \n0    220  \n1    224  \n2    226  \n3    220  \n4    224  \n\n[5 rows x 21 columns]",
      "text/html": "<div>\n<style scoped>\n    .dataframe tbody tr th:only-of-type {\n        vertical-align: middle;\n    }\n\n    .dataframe tbody tr th {\n        vertical-align: top;\n    }\n\n    .dataframe thead th {\n        text-align: right;\n    }\n</style>\n<table border=\"1\" class=\"dataframe\">\n  <thead>\n    <tr style=\"text-align: right;\">\n      <th></th>\n      <th>Time stamp</th>\n      <th>LG 1</th>\n      <th>LG 2</th>\n      <th>LG 3</th>\n      <th>LG 4</th>\n      <th>LG 5</th>\n      <th>LG 6</th>\n      <th>LG 7</th>\n      <th>LG 8</th>\n      <th>LG 9</th>\n      <th>...</th>\n      <th>LG 11</th>\n      <th>LG 12</th>\n      <th>LG 13</th>\n      <th>LG 14</th>\n      <th>LG 15</th>\n      <th>LG 16</th>\n      <th>LG 17</th>\n      <th>LG 18</th>\n      <th>LG 19</th>\n      <th>LG 20</th>\n    </tr>\n  </thead>\n  <tbody>\n    <tr>\n      <th>0</th>\n      <td>01.01.2016 00:15:00</td>\n      <td>39</td>\n      <td>332.16</td>\n      <td>10.552</td>\n      <td>416.0</td>\n      <td>13.12</td>\n      <td>0.12</td>\n      <td>6.0</td>\n      <td>120</td>\n      <td>70</td>\n      <td>...</td>\n      <td>0.0</td>\n      <td>27.400</td>\n      <td>29.6</td>\n      <td>65.0</td>\n      <td>2462.4</td>\n      <td>6.200</td>\n      <td>0.96</td>\n      <td>25.8</td>\n      <td>11.46</td>\n      <td>220</td>\n    </tr>\n    <tr>\n      <th>1</th>\n      <td>01.01.2016 00:30:00</td>\n      <td>41</td>\n      <td>321.36</td>\n      <td>10.300</td>\n      <td>418.4</td>\n      <td>13.12</td>\n      <td>0.24</td>\n      <td>6.0</td>\n      <td>116</td>\n      <td>74</td>\n      <td>...</td>\n      <td>0.0</td>\n      <td>25.448</td>\n      <td>30.4</td>\n      <td>66.0</td>\n      <td>2462.4</td>\n      <td>6.200</td>\n      <td>0.90</td>\n      <td>34.2</td>\n      <td>11.32</td>\n      <td>224</td>\n    </tr>\n    <tr>\n      <th>2</th>\n      <td>01.01.2016 00:45:00</td>\n      <td>39</td>\n      <td>336.48</td>\n      <td>10.348</td>\n      <td>419.6</td>\n      <td>13.76</td>\n      <td>0.12</td>\n      <td>6.0</td>\n      <td>108</td>\n      <td>68</td>\n      <td>...</td>\n      <td>0.0</td>\n      <td>27.000</td>\n      <td>30.4</td>\n      <td>68.0</td>\n      <td>2459.2</td>\n      <td>5.876</td>\n      <td>0.90</td>\n      <td>38.4</td>\n      <td>11.62</td>\n      <td>226</td>\n    </tr>\n    <tr>\n      <th>3</th>\n      <td>01.01.2016 01:00:00</td>\n      <td>40</td>\n      <td>319.20</td>\n      <td>10.600</td>\n      <td>422.0</td>\n      <td>13.44</td>\n      <td>0.12</td>\n      <td>8.0</td>\n      <td>112</td>\n      <td>80</td>\n      <td>...</td>\n      <td>0.0</td>\n      <td>27.552</td>\n      <td>29.6</td>\n      <td>67.0</td>\n      <td>2451.2</td>\n      <td>6.200</td>\n      <td>1.02</td>\n      <td>19.8</td>\n      <td>9.40</td>\n      <td>220</td>\n    </tr>\n    <tr>\n      <th>4</th>\n      <td>01.01.2016 01:15:00</td>\n      <td>39</td>\n      <td>322.80</td>\n      <td>10.148</td>\n      <td>418.8</td>\n      <td>13.44</td>\n      <td>0.24</td>\n      <td>6.0</td>\n      <td>120</td>\n      <td>72</td>\n      <td>...</td>\n      <td>272.0</td>\n      <td>24.900</td>\n      <td>31.2</td>\n      <td>66.0</td>\n      <td>2436.8</td>\n      <td>6.200</td>\n      <td>0.90</td>\n      <td>16.8</td>\n      <td>10.58</td>\n      <td>224</td>\n    </tr>\n  </tbody>\n</table>\n<p>5 rows × 21 columns</p>\n</div>"
     },
     "execution_count": 2,
     "metadata": {},
     "output_type": "execute_result"
    }
   ],
   "source": [
    "lp_20ips_2016 = pd.read_csv(\"LoadProfile_20IPs_2016.csv\", sep=\";\", skiprows=1)\n",
    "lp_30ups_2017 = pd.read_csv(\"LoadProfile_30IPs_2017.csv\", sep=\";\", skiprows=1)\n",
    "lp_20ips_2016.head()"
   ],
   "metadata": {
    "collapsed": false,
    "ExecuteTime": {
     "end_time": "2024-09-11T03:02:10.446430300Z",
     "start_time": "2024-09-11T03:02:10.148150500Z"
    }
   }
  },
  {
   "cell_type": "code",
   "source": [
    "lp_30ups_2017.head()"
   ],
   "metadata": {
    "colab": {
     "base_uri": "https://localhost:8080/",
     "height": 233
    },
    "id": "RUrvBIX3hvmi",
    "outputId": "23a376c1-412b-4ad7-8c2d-1f3fe4f30814",
    "ExecuteTime": {
     "end_time": "2024-09-11T03:02:11.481150700Z",
     "start_time": "2024-09-11T03:02:11.448497800Z"
    }
   },
   "execution_count": 3,
   "outputs": [
    {
     "data": {
      "text/plain": "            Time stamp  LG 01  LG 02  LG 03  LG 04  LG 05  LG 06  LG 07  \\\n0  01.01.2017 00:15:00  4.340  3.150  0.810  3.560  0.406  7.526  7.913   \n1  01.01.2017 00:30:00  4.510  2.738  0.885  3.530  0.406  6.917  8.150   \n2  01.01.2017 00:45:00  3.795  2.413  0.900  2.785  0.325  6.737  6.938   \n3  01.01.2017 01:00:00  4.245  1.875  0.825  2.760  0.325  6.744  7.088   \n4  01.01.2017 01:15:00  4.050  1.700  0.915  3.020  0.325  7.394  4.075   \n\n   LG 08  LG 09  ...  LG 21  LG 22  LG 23  LG 24  LG 25  LG 26  LG 27  LG 28  \\\n0  2.740  0.918  ...  19.40    2.1    4.6    6.0  0.853   3.58  14.55  14.55   \n1  3.005  1.026  ...  19.25    1.8    4.3    8.2  0.805   3.84  14.55  14.55   \n2  2.795  0.936  ...  19.05    1.9    4.7    5.6  0.805   3.46  16.45  16.45   \n3  2.810  0.942  ...  19.10    1.8    4.2    6.0  0.817   3.68  14.75  14.75   \n4  2.545  0.942  ...  19.10    1.8    4.3    8.2  0.817   4.08  14.65  14.65   \n\n   LG 29  LG 30  \n0  16.75   12.0  \n1  17.75   12.0  \n2  19.50   11.5  \n3  19.50   11.5  \n4  19.25   11.5  \n\n[5 rows x 31 columns]",
      "text/html": "<div>\n<style scoped>\n    .dataframe tbody tr th:only-of-type {\n        vertical-align: middle;\n    }\n\n    .dataframe tbody tr th {\n        vertical-align: top;\n    }\n\n    .dataframe thead th {\n        text-align: right;\n    }\n</style>\n<table border=\"1\" class=\"dataframe\">\n  <thead>\n    <tr style=\"text-align: right;\">\n      <th></th>\n      <th>Time stamp</th>\n      <th>LG 01</th>\n      <th>LG 02</th>\n      <th>LG 03</th>\n      <th>LG 04</th>\n      <th>LG 05</th>\n      <th>LG 06</th>\n      <th>LG 07</th>\n      <th>LG 08</th>\n      <th>LG 09</th>\n      <th>...</th>\n      <th>LG 21</th>\n      <th>LG 22</th>\n      <th>LG 23</th>\n      <th>LG 24</th>\n      <th>LG 25</th>\n      <th>LG 26</th>\n      <th>LG 27</th>\n      <th>LG 28</th>\n      <th>LG 29</th>\n      <th>LG 30</th>\n    </tr>\n  </thead>\n  <tbody>\n    <tr>\n      <th>0</th>\n      <td>01.01.2017 00:15:00</td>\n      <td>4.340</td>\n      <td>3.150</td>\n      <td>0.810</td>\n      <td>3.560</td>\n      <td>0.406</td>\n      <td>7.526</td>\n      <td>7.913</td>\n      <td>2.740</td>\n      <td>0.918</td>\n      <td>...</td>\n      <td>19.40</td>\n      <td>2.1</td>\n      <td>4.6</td>\n      <td>6.0</td>\n      <td>0.853</td>\n      <td>3.58</td>\n      <td>14.55</td>\n      <td>14.55</td>\n      <td>16.75</td>\n      <td>12.0</td>\n    </tr>\n    <tr>\n      <th>1</th>\n      <td>01.01.2017 00:30:00</td>\n      <td>4.510</td>\n      <td>2.738</td>\n      <td>0.885</td>\n      <td>3.530</td>\n      <td>0.406</td>\n      <td>6.917</td>\n      <td>8.150</td>\n      <td>3.005</td>\n      <td>1.026</td>\n      <td>...</td>\n      <td>19.25</td>\n      <td>1.8</td>\n      <td>4.3</td>\n      <td>8.2</td>\n      <td>0.805</td>\n      <td>3.84</td>\n      <td>14.55</td>\n      <td>14.55</td>\n      <td>17.75</td>\n      <td>12.0</td>\n    </tr>\n    <tr>\n      <th>2</th>\n      <td>01.01.2017 00:45:00</td>\n      <td>3.795</td>\n      <td>2.413</td>\n      <td>0.900</td>\n      <td>2.785</td>\n      <td>0.325</td>\n      <td>6.737</td>\n      <td>6.938</td>\n      <td>2.795</td>\n      <td>0.936</td>\n      <td>...</td>\n      <td>19.05</td>\n      <td>1.9</td>\n      <td>4.7</td>\n      <td>5.6</td>\n      <td>0.805</td>\n      <td>3.46</td>\n      <td>16.45</td>\n      <td>16.45</td>\n      <td>19.50</td>\n      <td>11.5</td>\n    </tr>\n    <tr>\n      <th>3</th>\n      <td>01.01.2017 01:00:00</td>\n      <td>4.245</td>\n      <td>1.875</td>\n      <td>0.825</td>\n      <td>2.760</td>\n      <td>0.325</td>\n      <td>6.744</td>\n      <td>7.088</td>\n      <td>2.810</td>\n      <td>0.942</td>\n      <td>...</td>\n      <td>19.10</td>\n      <td>1.8</td>\n      <td>4.2</td>\n      <td>6.0</td>\n      <td>0.817</td>\n      <td>3.68</td>\n      <td>14.75</td>\n      <td>14.75</td>\n      <td>19.50</td>\n      <td>11.5</td>\n    </tr>\n    <tr>\n      <th>4</th>\n      <td>01.01.2017 01:15:00</td>\n      <td>4.050</td>\n      <td>1.700</td>\n      <td>0.915</td>\n      <td>3.020</td>\n      <td>0.325</td>\n      <td>7.394</td>\n      <td>4.075</td>\n      <td>2.545</td>\n      <td>0.942</td>\n      <td>...</td>\n      <td>19.10</td>\n      <td>1.8</td>\n      <td>4.3</td>\n      <td>8.2</td>\n      <td>0.817</td>\n      <td>4.08</td>\n      <td>14.65</td>\n      <td>14.65</td>\n      <td>19.25</td>\n      <td>11.5</td>\n    </tr>\n  </tbody>\n</table>\n<p>5 rows × 31 columns</p>\n</div>"
     },
     "execution_count": 3,
     "metadata": {},
     "output_type": "execute_result"
    }
   ]
  },
  {
   "cell_type": "code",
   "execution_count": 4,
   "outputs": [],
   "source": [
    "# TODO: Split Data"
   ],
   "metadata": {
    "collapsed": false,
    "ExecuteTime": {
     "end_time": "2024-09-11T03:02:12.439952200Z",
     "start_time": "2024-09-11T03:02:12.425162600Z"
    }
   }
  },
  {
   "cell_type": "markdown",
   "source": [
    "# AutoGluon "
   ],
   "metadata": {
    "collapsed": false
   }
  },
  {
   "cell_type": "code",
   "source": [
    "from autogluon.timeseries import TimeSeriesDataFrame, TimeSeriesPredictor\n",
    "# Prepare Data \n",
    "df = deepcopy(lp_20ips_2016)#[[\"Time stamp\", \"LG 1\"]]\n",
    "df.loc[:, [\"Time stamp\"]] = df[\"Time stamp\"].str.replace(r'[^0-9.: ]', '', regex=True).str.strip()\n",
    "df.loc[:, [\"Time stamp\"]] = pd.to_datetime(df[\"Time stamp\"], format='%d.%m.%Y %H:%M:%S')\n",
    "# TODO Normalize Data else MASE means nothing\n",
    "# Concat Columns & Assign Ids \n",
    "df = df.melt(id_vars=['Time stamp'], var_name='item_id', value_name='target')\n",
    "df"
   ],
   "metadata": {
    "id": "U2hrJjHtn5lG",
    "ExecuteTime": {
     "end_time": "2024-09-11T03:02:16.746874400Z",
     "start_time": "2024-09-11T03:02:14.225491800Z"
    }
   },
   "execution_count": 5,
   "outputs": [
    {
     "data": {
      "text/plain": "                Time stamp item_id  target\n0      2016-01-01 00:15:00    LG 1    39.0\n1      2016-01-01 00:30:00    LG 1    41.0\n2      2016-01-01 00:45:00    LG 1    39.0\n3      2016-01-01 01:00:00    LG 1    40.0\n4      2016-01-01 01:15:00    LG 1    39.0\n...                    ...     ...     ...\n702795 2016-12-31 23:00:00   LG 20   280.0\n702796 2016-12-31 23:15:00   LG 20   288.0\n702797 2016-12-31 23:30:00   LG 20   284.0\n702798 2016-12-31 23:45:00   LG 20   288.0\n702799 2017-01-01 00:00:00   LG 20   284.0\n\n[702800 rows x 3 columns]",
      "text/html": "<div>\n<style scoped>\n    .dataframe tbody tr th:only-of-type {\n        vertical-align: middle;\n    }\n\n    .dataframe tbody tr th {\n        vertical-align: top;\n    }\n\n    .dataframe thead th {\n        text-align: right;\n    }\n</style>\n<table border=\"1\" class=\"dataframe\">\n  <thead>\n    <tr style=\"text-align: right;\">\n      <th></th>\n      <th>Time stamp</th>\n      <th>item_id</th>\n      <th>target</th>\n    </tr>\n  </thead>\n  <tbody>\n    <tr>\n      <th>0</th>\n      <td>2016-01-01 00:15:00</td>\n      <td>LG 1</td>\n      <td>39.0</td>\n    </tr>\n    <tr>\n      <th>1</th>\n      <td>2016-01-01 00:30:00</td>\n      <td>LG 1</td>\n      <td>41.0</td>\n    </tr>\n    <tr>\n      <th>2</th>\n      <td>2016-01-01 00:45:00</td>\n      <td>LG 1</td>\n      <td>39.0</td>\n    </tr>\n    <tr>\n      <th>3</th>\n      <td>2016-01-01 01:00:00</td>\n      <td>LG 1</td>\n      <td>40.0</td>\n    </tr>\n    <tr>\n      <th>4</th>\n      <td>2016-01-01 01:15:00</td>\n      <td>LG 1</td>\n      <td>39.0</td>\n    </tr>\n    <tr>\n      <th>...</th>\n      <td>...</td>\n      <td>...</td>\n      <td>...</td>\n    </tr>\n    <tr>\n      <th>702795</th>\n      <td>2016-12-31 23:00:00</td>\n      <td>LG 20</td>\n      <td>280.0</td>\n    </tr>\n    <tr>\n      <th>702796</th>\n      <td>2016-12-31 23:15:00</td>\n      <td>LG 20</td>\n      <td>288.0</td>\n    </tr>\n    <tr>\n      <th>702797</th>\n      <td>2016-12-31 23:30:00</td>\n      <td>LG 20</td>\n      <td>284.0</td>\n    </tr>\n    <tr>\n      <th>702798</th>\n      <td>2016-12-31 23:45:00</td>\n      <td>LG 20</td>\n      <td>288.0</td>\n    </tr>\n    <tr>\n      <th>702799</th>\n      <td>2017-01-01 00:00:00</td>\n      <td>LG 20</td>\n      <td>284.0</td>\n    </tr>\n  </tbody>\n</table>\n<p>702800 rows × 3 columns</p>\n</div>"
     },
     "execution_count": 5,
     "metadata": {},
     "output_type": "execute_result"
    }
   ]
  },
  {
   "cell_type": "code",
   "source": [
    "train_data = TimeSeriesDataFrame.from_data_frame(\n",
    "    df,\n",
    "    id_column=\"item_id\",\n",
    "    timestamp_column=\"Time stamp\"\n",
    ")\n",
    "train_data"
   ],
   "metadata": {
    "colab": {
     "base_uri": "https://localhost:8080/",
     "height": 235
    },
    "id": "44coShs9lhIE",
    "outputId": "cd7debdf-a899-4b9e-b075-2d88603a05e1",
    "ExecuteTime": {
     "end_time": "2024-09-11T03:02:19.137320700Z",
     "start_time": "2024-09-11T03:02:18.932122500Z"
    }
   },
   "execution_count": 6,
   "outputs": [
    {
     "data": {
      "text/plain": "                             target\nitem_id timestamp                  \nLG 1    2016-01-01 00:15:00    39.0\n        2016-01-01 00:30:00    41.0\n        2016-01-01 00:45:00    39.0\n        2016-01-01 01:00:00    40.0\n        2016-01-01 01:15:00    39.0\n...                             ...\nLG 20   2016-12-31 23:00:00   280.0\n        2016-12-31 23:15:00   288.0\n        2016-12-31 23:30:00   284.0\n        2016-12-31 23:45:00   288.0\n        2017-01-01 00:00:00   284.0\n\n[702800 rows x 1 columns]",
      "text/html": "<div>\n<style scoped>\n    .dataframe tbody tr th:only-of-type {\n        vertical-align: middle;\n    }\n\n    .dataframe tbody tr th {\n        vertical-align: top;\n    }\n\n    .dataframe thead th {\n        text-align: right;\n    }\n</style>\n<table border=\"1\" class=\"dataframe\">\n  <thead>\n    <tr style=\"text-align: right;\">\n      <th></th>\n      <th></th>\n      <th>target</th>\n    </tr>\n    <tr>\n      <th>item_id</th>\n      <th>timestamp</th>\n      <th></th>\n    </tr>\n  </thead>\n  <tbody>\n    <tr>\n      <th rowspan=\"5\" valign=\"top\">LG 1</th>\n      <th>2016-01-01 00:15:00</th>\n      <td>39.0</td>\n    </tr>\n    <tr>\n      <th>2016-01-01 00:30:00</th>\n      <td>41.0</td>\n    </tr>\n    <tr>\n      <th>2016-01-01 00:45:00</th>\n      <td>39.0</td>\n    </tr>\n    <tr>\n      <th>2016-01-01 01:00:00</th>\n      <td>40.0</td>\n    </tr>\n    <tr>\n      <th>2016-01-01 01:15:00</th>\n      <td>39.0</td>\n    </tr>\n    <tr>\n      <th>...</th>\n      <th>...</th>\n      <td>...</td>\n    </tr>\n    <tr>\n      <th rowspan=\"5\" valign=\"top\">LG 20</th>\n      <th>2016-12-31 23:00:00</th>\n      <td>280.0</td>\n    </tr>\n    <tr>\n      <th>2016-12-31 23:15:00</th>\n      <td>288.0</td>\n    </tr>\n    <tr>\n      <th>2016-12-31 23:30:00</th>\n      <td>284.0</td>\n    </tr>\n    <tr>\n      <th>2016-12-31 23:45:00</th>\n      <td>288.0</td>\n    </tr>\n    <tr>\n      <th>2017-01-01 00:00:00</th>\n      <td>284.0</td>\n    </tr>\n  </tbody>\n</table>\n<p>702800 rows × 1 columns</p>\n</div>"
     },
     "execution_count": 6,
     "metadata": {},
     "output_type": "execute_result"
    }
   ]
  },
  {
   "cell_type": "code",
   "source": [
    "predictor = TimeSeriesPredictor(\n",
    "    prediction_length=48,\n",
    "    path=\"autogluon-m4-hourly\",\n",
    "    target=\"target\",\n",
    "    eval_metric=\"MASE\",\n",
    "    freq=\"15min\"\n",
    ")\n",
    "\n",
    "# Dev Setting\n",
    "predictor.fit(\n",
    "    train_data,\n",
    "    presets=\"medium_quality\",\n",
    "    time_limit=5*60,\n",
    ")"
   ],
   "metadata": {
    "colab": {
     "base_uri": "https://localhost:8080/",
     "height": 911
    },
    "id": "Couwg3VBsjfi",
    "outputId": "7392c8ee-e05e-4f32-8d1d-d3819f7929ca",
    "ExecuteTime": {
     "end_time": "2024-09-11T03:13:39.337546500Z",
     "start_time": "2024-09-11T03:10:01.812372300Z"
    }
   },
   "execution_count": 17,
   "outputs": [
    {
     "name": "stderr",
     "output_type": "stream",
     "text": [
      "Beginning AutoGluon training... Time limit = 300s\n",
      "AutoGluon will save models to 'autogluon-m4-hourly'\n",
      "=================== System Info ===================\n",
      "AutoGluon Version:  1.1.1\n",
      "Python Version:     3.9.13\n",
      "Operating System:   Windows\n",
      "Platform Machine:   AMD64\n",
      "Platform Version:   10.0.22631\n",
      "CPU Count:          12\n",
      "GPU Count:          0\n",
      "Memory Avail:       1.91 GB / 15.34 GB (12.5%)\n",
      "Disk Space Avail:   102.23 GB / 474.72 GB (21.5%)\n",
      "===================================================\n",
      "Setting presets to: medium_quality\n",
      "\n",
      "Fitting with arguments:\n",
      "{'enable_ensemble': True,\n",
      " 'eval_metric': MASE,\n",
      " 'freq': '15min',\n",
      " 'hyperparameters': 'light',\n",
      " 'known_covariates_names': [],\n",
      " 'num_val_windows': 1,\n",
      " 'prediction_length': 48,\n",
      " 'quantile_levels': [0.1, 0.2, 0.3, 0.4, 0.5, 0.6, 0.7, 0.8, 0.9],\n",
      " 'random_seed': 123,\n",
      " 'refit_every_n_windows': 1,\n",
      " 'refit_full': False,\n",
      " 'skip_model_selection': False,\n",
      " 'target': 'target',\n",
      " 'time_limit': 300,\n",
      " 'verbosity': 2}\n",
      "\n",
      "train_data with frequency 'None' has been resampled to frequency '15min'.\n",
      "Provided train_data has 702720 rows, 20 time series. Median time series length is 35136 (min=35136, max=35136). \n",
      "\n",
      "Provided data contains following columns:\n",
      "\ttarget: 'target'\n",
      "\n",
      "AutoGluon will gauge predictive performance using evaluation metric: 'MASE'\n",
      "\tThis metric's sign has been flipped to adhere to being higher_is_better. The metric score can be multiplied by -1 to get the metric value.\n",
      "===================================================\n",
      "\n",
      "Starting training. Start time is 2024-09-11 05:10:03\n",
      "Models that will be trained: ['Naive', 'SeasonalNaive', 'RecursiveTabular', 'DirectTabular', 'ETS', 'Theta', 'TemporalFusionTransformer']\n",
      "Training timeseries model Naive. Training for up to 37.3s of the 298.3s of remaining time.\n",
      "\t-0.2897       = Validation score (-MASE)\n",
      "\t1.18    s     = Training runtime\n",
      "\t4.84    s     = Validation (prediction) runtime\n",
      "Training timeseries model SeasonalNaive. Training for up to 41.7s of the 292.2s of remaining time.\n",
      "\t-0.3659       = Validation score (-MASE)\n",
      "\t0.74    s     = Training runtime\n",
      "\t0.16    s     = Validation (prediction) runtime\n",
      "Training timeseries model RecursiveTabular. Training for up to 48.6s of the 291.3s of remaining time.\n",
      "\t-0.3377       = Validation score (-MASE)\n",
      "\t45.41   s     = Training runtime\n",
      "\t4.69    s     = Validation (prediction) runtime\n",
      "Training timeseries model DirectTabular. Training for up to 48.2s of the 241.2s of remaining time.\n",
      "\t-0.4468       = Validation score (-MASE)\n",
      "\t11.17   s     = Training runtime\n",
      "\t1.91    s     = Validation (prediction) runtime\n",
      "Training timeseries model ETS. Training for up to 57.0s of the 228.1s of remaining time.\n",
      "\t-0.3630       = Validation score (-MASE)\n",
      "\t0.75    s     = Training runtime\n",
      "\t41.80   s     = Validation (prediction) runtime\n",
      "Training timeseries model Theta. Training for up to 61.8s of the 185.5s of remaining time.\n",
      "\t-0.4377       = Validation score (-MASE)\n",
      "\t0.73    s     = Training runtime\n",
      "\t27.77   s     = Validation (prediction) runtime\n",
      "Training timeseries model TemporalFusionTransformer. Training for up to 78.5s of the 157.0s of remaining time.\n",
      "\t-0.3994       = Validation score (-MASE)\n",
      "\t72.74   s     = Training runtime\n",
      "\t0.54    s     = Validation (prediction) runtime\n",
      "Fitting simple weighted ensemble.\n",
      "\tEnsemble weights: {'DirectTabular': 0.03, 'ETS': 0.07, 'Naive': 0.33, 'RecursiveTabular': 0.2, 'SeasonalNaive': 0.09, 'TemporalFusionTransformer': 0.24, 'Theta': 0.04}\n",
      "\t-0.2018       = Validation score (-MASE)\n",
      "\t0.64    s     = Training runtime\n",
      "\t81.71   s     = Validation (prediction) runtime\n",
      "Training complete. Models trained: ['Naive', 'SeasonalNaive', 'RecursiveTabular', 'DirectTabular', 'ETS', 'Theta', 'TemporalFusionTransformer', 'WeightedEnsemble']\n",
      "Total runtime: 215.64 s\n",
      "Best model: WeightedEnsemble\n",
      "Best model score: -0.2018\n"
     ]
    },
    {
     "data": {
      "text/plain": "<autogluon.timeseries.predictor.TimeSeriesPredictor at 0x245d69d3550>"
     },
     "execution_count": 17,
     "metadata": {},
     "output_type": "execute_result"
    }
   ]
  },
  {
   "cell_type": "code",
   "execution_count": 18,
   "outputs": [
    {
     "name": "stderr",
     "output_type": "stream",
     "text": [
      "C:\\Users\\Jimmy\\AppData\\Local\\Temp\\ipykernel_17624\\3153554787.py:6: FutureWarning: DataFrame.interpolate with object dtype is deprecated and will raise in a future version. Call obj.infer_objects(copy=False) before interpolating instead.\n",
      "  test = test.interpolate(method=\"linear\")\n",
      "data with frequency 'None' has been resampled to frequency '15min'.\n",
      "Model not specified in predict, will default to the model with the best validation score: WeightedEnsemble\n"
     ]
    },
    {
     "data": {
      "text/plain": "{'MASE': -0.19977795528095804}"
     },
     "execution_count": 18,
     "metadata": {},
     "output_type": "execute_result"
    }
   ],
   "source": [
    "# TODO: Smarter Train-Test Split\n",
    "test = deepcopy(lp_30ups_2017)#[[\"Time stamp\", \"LG 1\"]]\n",
    "test.loc[:, [\"Time stamp\"]] = test[\"Time stamp\"].str.replace(r'[^0-9.: ]', '', regex=True).str.strip()\n",
    "test.loc[:, [\"Time stamp\"]] = pd.to_datetime(test[\"Time stamp\"], format='%d.%m.%Y %H:%M:%S')\n",
    "\n",
    "# TODO: Check whether makes sense (AG can't handle Nans)\n",
    "test = test.interpolate(method=\"linear\")\n",
    "\n",
    "# Concat Columns & Assign Ids \n",
    "test = test.melt(id_vars=['Time stamp'], var_name='item_id', value_name='target')\n",
    "test_data = TimeSeriesDataFrame.from_data_frame(\n",
    "    test.reset_index(drop=True),\n",
    "    id_column=\"item_id\",\n",
    "    timestamp_column=\"Time stamp\"\n",
    ")\n",
    "predictor.evaluate(test_data)"
   ],
   "metadata": {
    "collapsed": false,
    "ExecuteTime": {
     "end_time": "2024-09-11T03:15:15.430358100Z",
     "start_time": "2024-09-11T03:13:39.305826800Z"
    }
   }
  },
  {
   "cell_type": "code",
   "execution_count": 15,
   "outputs": [
    {
     "name": "stderr",
     "output_type": "stream",
     "text": [
      "C:\\Users\\Jimmy\\AppData\\Local\\Temp\\ipykernel_17624\\3953822821.py:1: FutureWarning: DataFrame.interpolate with object dtype is deprecated and will raise in a future version. Call obj.infer_objects(copy=False) before interpolating instead.\n",
      "  test = test.interpolate(method=\"linear\")\n",
      "C:\\Users\\Jimmy\\Documents\\UNI\\Projects\\24cast\\venv\\lib\\site-packages\\numpy\\core\\fromnumeric.py:84: FutureWarning: The behavior of DataFrame.sum with axis=None is deprecated, in a future version this will reduce over both axes and return a scalar. To retain the old behavior, pass axis=0 (or do not pass axis)\n",
      "  return reduction(axis=axis, out=out, **passkwargs)\n"
     ]
    },
    {
     "data": {
      "text/plain": "Time stamp    0\nitem_id       0\ntarget        0\ndtype: int64"
     },
     "execution_count": 15,
     "metadata": {},
     "output_type": "execute_result"
    }
   ],
   "source": [],
   "metadata": {
    "collapsed": false,
    "ExecuteTime": {
     "end_time": "2024-09-11T03:07:45.446006400Z",
     "start_time": "2024-09-11T03:07:45.277446500Z"
    }
   }
  },
  {
   "cell_type": "code",
   "execution_count": null,
   "outputs": [],
   "source": [
    "# High Performance Setting\n",
    "predictor.fit(\n",
    "    train_data,\n",
    "    presets=\"best_quality\",\n",
    "    time_limit=4*60*60,\n",
    ")"
   ],
   "metadata": {
    "collapsed": false
   }
  }
 ]
}
